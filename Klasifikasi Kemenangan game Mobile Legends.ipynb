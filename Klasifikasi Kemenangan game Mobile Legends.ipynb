{
 "cells": [
  {
   "cell_type": "markdown",
   "id": "bf00dc58",
   "metadata": {},
   "source": [
    "# Import Library"
   ]
  },
  {
   "cell_type": "code",
   "execution_count": 1,
   "id": "27d9ebd1",
   "metadata": {},
   "outputs": [],
   "source": [
    "import pandas as pd\n",
    "import numpy as np\n",
    "import matplotlib.pyplot as plt\n",
    "import seaborn as sns\n",
    "import missingno as msno\n",
    "import matplotlib.pyplot"
   ]
  },
  {
   "cell_type": "code",
   "execution_count": 2,
   "id": "ca295562",
   "metadata": {},
   "outputs": [],
   "source": [
    "df = pd.read_excel(\"C:/Users/AGOY/Tugas Akhir 14117099 Mobile Legends/Mobile Legends Professional League.xlsx\")"
   ]
  },
  {
   "cell_type": "markdown",
   "id": "dbd34876",
   "metadata": {},
   "source": [
    "# Show Data"
   ]
  },
  {
   "cell_type": "code",
   "execution_count": 3,
   "id": "c3a5af2c",
   "metadata": {},
   "outputs": [
    {
     "name": "stdout",
     "output_type": "stream",
     "text": [
      "Shape Match Dataset: (442, 28)\n"
     ]
    },
    {
     "data": {
      "text/html": [
       "<div>\n",
       "<style scoped>\n",
       "    .dataframe tbody tr th:only-of-type {\n",
       "        vertical-align: middle;\n",
       "    }\n",
       "\n",
       "    .dataframe tbody tr th {\n",
       "        vertical-align: top;\n",
       "    }\n",
       "\n",
       "    .dataframe thead th {\n",
       "        text-align: right;\n",
       "    }\n",
       "</style>\n",
       "<table border=\"1\" class=\"dataframe\">\n",
       "  <thead>\n",
       "    <tr style=\"text-align: right;\">\n",
       "      <th></th>\n",
       "      <th>date</th>\n",
       "      <th>game</th>\n",
       "      <th>blue</th>\n",
       "      <th>red</th>\n",
       "      <th>time(minutes)</th>\n",
       "      <th>win</th>\n",
       "      <th>win_team</th>\n",
       "      <th>mvp</th>\n",
       "      <th>pick_blue_1</th>\n",
       "      <th>pick_blue_2</th>\n",
       "      <th>...</th>\n",
       "      <th>pick_red_1</th>\n",
       "      <th>pick_red_2</th>\n",
       "      <th>pick_red_3</th>\n",
       "      <th>pick_red_4</th>\n",
       "      <th>pick_red_5</th>\n",
       "      <th>ban_red_1</th>\n",
       "      <th>ban_red_2</th>\n",
       "      <th>ban_red_3</th>\n",
       "      <th>ban_red_4</th>\n",
       "      <th>ban_red_5</th>\n",
       "    </tr>\n",
       "  </thead>\n",
       "  <tbody>\n",
       "    <tr>\n",
       "      <th>0</th>\n",
       "      <td>2023-01-01</td>\n",
       "      <td>1</td>\n",
       "      <td>BLCK</td>\n",
       "      <td>INC</td>\n",
       "      <td>12.37</td>\n",
       "      <td>BLCK</td>\n",
       "      <td>blue</td>\n",
       "      <td>valentina</td>\n",
       "      <td>benedetta</td>\n",
       "      <td>valentina</td>\n",
       "      <td>...</td>\n",
       "      <td>yu_zhong</td>\n",
       "      <td>guinevere</td>\n",
       "      <td>lunox</td>\n",
       "      <td>beatrix</td>\n",
       "      <td>atlas</td>\n",
       "      <td>pharsa</td>\n",
       "      <td>wan_wan</td>\n",
       "      <td>gloo</td>\n",
       "      <td>diggie</td>\n",
       "      <td>estes</td>\n",
       "    </tr>\n",
       "    <tr>\n",
       "      <th>1</th>\n",
       "      <td>2023-01-01</td>\n",
       "      <td>2</td>\n",
       "      <td>MVG</td>\n",
       "      <td>MDH</td>\n",
       "      <td>16.03</td>\n",
       "      <td>MVG</td>\n",
       "      <td>blue</td>\n",
       "      <td>karrie</td>\n",
       "      <td>gloo</td>\n",
       "      <td>fredrinn</td>\n",
       "      <td>...</td>\n",
       "      <td>lapu_lapu</td>\n",
       "      <td>ling</td>\n",
       "      <td>faramis</td>\n",
       "      <td>claude</td>\n",
       "      <td>chou</td>\n",
       "      <td>kaja</td>\n",
       "      <td>wan_wan</td>\n",
       "      <td>hayabusa</td>\n",
       "      <td>beatrix</td>\n",
       "      <td>brody</td>\n",
       "    </tr>\n",
       "    <tr>\n",
       "      <th>2</th>\n",
       "      <td>2023-01-01</td>\n",
       "      <td>3</td>\n",
       "      <td>INC</td>\n",
       "      <td>FCON</td>\n",
       "      <td>14.28</td>\n",
       "      <td>INC</td>\n",
       "      <td>blue</td>\n",
       "      <td>fredrinn</td>\n",
       "      <td>khaleed</td>\n",
       "      <td>fredrinn</td>\n",
       "      <td>...</td>\n",
       "      <td>joy</td>\n",
       "      <td>ling</td>\n",
       "      <td>faramis</td>\n",
       "      <td>irithel</td>\n",
       "      <td>lolita</td>\n",
       "      <td>gloo</td>\n",
       "      <td>kaja</td>\n",
       "      <td>grock</td>\n",
       "      <td>lunox</td>\n",
       "      <td>yve</td>\n",
       "    </tr>\n",
       "    <tr>\n",
       "      <th>3</th>\n",
       "      <td>2023-01-01</td>\n",
       "      <td>4</td>\n",
       "      <td>TDK</td>\n",
       "      <td>MVG</td>\n",
       "      <td>11.46</td>\n",
       "      <td>TDK</td>\n",
       "      <td>blue</td>\n",
       "      <td>popol_kupa</td>\n",
       "      <td>lapu_lapu</td>\n",
       "      <td>hayabusa</td>\n",
       "      <td>...</td>\n",
       "      <td>uranus</td>\n",
       "      <td>fredrinn</td>\n",
       "      <td>pharsa</td>\n",
       "      <td>karrie</td>\n",
       "      <td>chou</td>\n",
       "      <td>gloo</td>\n",
       "      <td>fanny</td>\n",
       "      <td>joy</td>\n",
       "      <td>beatrix</td>\n",
       "      <td>brody</td>\n",
       "    </tr>\n",
       "    <tr>\n",
       "      <th>4</th>\n",
       "      <td>2023-01-01</td>\n",
       "      <td>5</td>\n",
       "      <td>FCON</td>\n",
       "      <td>BURN</td>\n",
       "      <td>20.21</td>\n",
       "      <td>FCON</td>\n",
       "      <td>blue</td>\n",
       "      <td>harith</td>\n",
       "      <td>fredrinn</td>\n",
       "      <td>fanny</td>\n",
       "      <td>...</td>\n",
       "      <td>lapu_lapu</td>\n",
       "      <td>ling</td>\n",
       "      <td>faramis</td>\n",
       "      <td>harith</td>\n",
       "      <td>grock</td>\n",
       "      <td>gloo</td>\n",
       "      <td>kaja</td>\n",
       "      <td>grock</td>\n",
       "      <td>lunox</td>\n",
       "      <td>yve</td>\n",
       "    </tr>\n",
       "  </tbody>\n",
       "</table>\n",
       "<p>5 rows × 28 columns</p>\n",
       "</div>"
      ],
      "text/plain": [
       "        date  game  blue   red  time(minutes)   win win_team         mvp  \\\n",
       "0 2023-01-01     1  BLCK   INC          12.37  BLCK     blue   valentina   \n",
       "1 2023-01-01     2   MVG   MDH          16.03   MVG     blue      karrie   \n",
       "2 2023-01-01     3   INC  FCON          14.28   INC     blue    fredrinn   \n",
       "3 2023-01-01     4   TDK   MVG          11.46   TDK     blue  popol_kupa   \n",
       "4 2023-01-01     5  FCON  BURN          20.21  FCON     blue      harith   \n",
       "\n",
       "  pick_blue_1 pick_blue_2  ... pick_red_1 pick_red_2 pick_red_3 pick_red_4  \\\n",
       "0   benedetta   valentina  ...   yu_zhong  guinevere      lunox    beatrix   \n",
       "1        gloo    fredrinn  ...  lapu_lapu       ling    faramis     claude   \n",
       "2     khaleed    fredrinn  ...        joy       ling    faramis    irithel   \n",
       "3   lapu_lapu    hayabusa  ...     uranus   fredrinn     pharsa     karrie   \n",
       "4    fredrinn       fanny  ...  lapu_lapu       ling    faramis     harith   \n",
       "\n",
       "  pick_red_5 ban_red_1 ban_red_2 ban_red_3 ban_red_4 ban_red_5  \n",
       "0      atlas    pharsa   wan_wan      gloo    diggie     estes  \n",
       "1       chou      kaja   wan_wan  hayabusa   beatrix     brody  \n",
       "2     lolita      gloo      kaja     grock     lunox       yve  \n",
       "3       chou      gloo     fanny       joy   beatrix     brody  \n",
       "4      grock      gloo      kaja     grock     lunox       yve  \n",
       "\n",
       "[5 rows x 28 columns]"
      ]
     },
     "metadata": {},
     "output_type": "display_data"
    },
    {
     "name": "stdout",
     "output_type": "stream",
     "text": [
      "Shape Hero Dataset: (119, 8)\n"
     ]
    },
    {
     "data": {
      "text/html": [
       "<div>\n",
       "<style scoped>\n",
       "    .dataframe tbody tr th:only-of-type {\n",
       "        vertical-align: middle;\n",
       "    }\n",
       "\n",
       "    .dataframe tbody tr th {\n",
       "        vertical-align: top;\n",
       "    }\n",
       "\n",
       "    .dataframe thead th {\n",
       "        text-align: right;\n",
       "    }\n",
       "</style>\n",
       "<table border=\"1\" class=\"dataframe\">\n",
       "  <thead>\n",
       "    <tr style=\"text-align: right;\">\n",
       "      <th></th>\n",
       "      <th>hero</th>\n",
       "      <th>total_pick</th>\n",
       "      <th>total_pick_blue</th>\n",
       "      <th>total_ban_blue</th>\n",
       "      <th>total_pick_red</th>\n",
       "      <th>total_ban_red</th>\n",
       "      <th>total_ban</th>\n",
       "      <th>total_pick_ban</th>\n",
       "    </tr>\n",
       "  </thead>\n",
       "  <tbody>\n",
       "    <tr>\n",
       "      <th>0</th>\n",
       "      <td>aamon</td>\n",
       "      <td>5</td>\n",
       "      <td>1</td>\n",
       "      <td>2</td>\n",
       "      <td>4</td>\n",
       "      <td>1</td>\n",
       "      <td>3</td>\n",
       "      <td>8</td>\n",
       "    </tr>\n",
       "    <tr>\n",
       "      <th>1</th>\n",
       "      <td>akai</td>\n",
       "      <td>83</td>\n",
       "      <td>48</td>\n",
       "      <td>52</td>\n",
       "      <td>35</td>\n",
       "      <td>38</td>\n",
       "      <td>90</td>\n",
       "      <td>173</td>\n",
       "    </tr>\n",
       "    <tr>\n",
       "      <th>2</th>\n",
       "      <td>aldous</td>\n",
       "      <td>2</td>\n",
       "      <td>2</td>\n",
       "      <td>1</td>\n",
       "      <td>0</td>\n",
       "      <td>0</td>\n",
       "      <td>1</td>\n",
       "      <td>3</td>\n",
       "    </tr>\n",
       "    <tr>\n",
       "      <th>3</th>\n",
       "      <td>alice</td>\n",
       "      <td>14</td>\n",
       "      <td>5</td>\n",
       "      <td>3</td>\n",
       "      <td>9</td>\n",
       "      <td>3</td>\n",
       "      <td>6</td>\n",
       "      <td>20</td>\n",
       "    </tr>\n",
       "    <tr>\n",
       "      <th>4</th>\n",
       "      <td>alpha</td>\n",
       "      <td>0</td>\n",
       "      <td>0</td>\n",
       "      <td>0</td>\n",
       "      <td>0</td>\n",
       "      <td>0</td>\n",
       "      <td>0</td>\n",
       "      <td>0</td>\n",
       "    </tr>\n",
       "  </tbody>\n",
       "</table>\n",
       "</div>"
      ],
      "text/plain": [
       "     hero  total_pick  total_pick_blue  total_ban_blue  total_pick_red  \\\n",
       "0   aamon           5                1               2               4   \n",
       "1    akai          83               48              52              35   \n",
       "2  aldous           2                2               1               0   \n",
       "3   alice          14                5               3               9   \n",
       "4   alpha           0                0               0               0   \n",
       "\n",
       "   total_ban_red  total_ban  total_pick_ban  \n",
       "0              1          3               8  \n",
       "1             38         90             173  \n",
       "2              0          1               3  \n",
       "3              3          6              20  \n",
       "4              0          0               0  "
      ]
     },
     "metadata": {},
     "output_type": "display_data"
    },
    {
     "name": "stdout",
     "output_type": "stream",
     "text": [
      "Shape Team Dataset: (22, 6)\n"
     ]
    },
    {
     "data": {
      "text/html": [
       "<div>\n",
       "<style scoped>\n",
       "    .dataframe tbody tr th:only-of-type {\n",
       "        vertical-align: middle;\n",
       "    }\n",
       "\n",
       "    .dataframe tbody tr th {\n",
       "        vertical-align: top;\n",
       "    }\n",
       "\n",
       "    .dataframe thead th {\n",
       "        text-align: right;\n",
       "    }\n",
       "</style>\n",
       "<table border=\"1\" class=\"dataframe\">\n",
       "  <thead>\n",
       "    <tr style=\"text-align: right;\">\n",
       "      <th></th>\n",
       "      <th>team</th>\n",
       "      <th>win_rate</th>\n",
       "      <th>avg_kda</th>\n",
       "      <th>avg_game_time</th>\n",
       "      <th>first_blood_rate</th>\n",
       "      <th>hero_pool</th>\n",
       "    </tr>\n",
       "  </thead>\n",
       "  <tbody>\n",
       "    <tr>\n",
       "      <th>0</th>\n",
       "      <td>ECHO</td>\n",
       "      <td>0.720</td>\n",
       "      <td>6.6</td>\n",
       "      <td>00:16:16</td>\n",
       "      <td>0.480</td>\n",
       "      <td>37</td>\n",
       "    </tr>\n",
       "    <tr>\n",
       "      <th>1</th>\n",
       "      <td>RRQ</td>\n",
       "      <td>0.609</td>\n",
       "      <td>5.2</td>\n",
       "      <td>00:18:31</td>\n",
       "      <td>0.609</td>\n",
       "      <td>37</td>\n",
       "    </tr>\n",
       "    <tr>\n",
       "      <th>2</th>\n",
       "      <td>TV</td>\n",
       "      <td>0.600</td>\n",
       "      <td>6.9</td>\n",
       "      <td>00:16:41</td>\n",
       "      <td>0.600</td>\n",
       "      <td>29</td>\n",
       "    </tr>\n",
       "    <tr>\n",
       "      <th>3</th>\n",
       "      <td>FCON</td>\n",
       "      <td>0.550</td>\n",
       "      <td>5.9</td>\n",
       "      <td>00:16:41</td>\n",
       "      <td>0.850</td>\n",
       "      <td>32</td>\n",
       "    </tr>\n",
       "    <tr>\n",
       "      <th>4</th>\n",
       "      <td>INC</td>\n",
       "      <td>0.533</td>\n",
       "      <td>5.2</td>\n",
       "      <td>00:16:11</td>\n",
       "      <td>0.267</td>\n",
       "      <td>31</td>\n",
       "    </tr>\n",
       "  </tbody>\n",
       "</table>\n",
       "</div>"
      ],
      "text/plain": [
       "   team  win_rate  avg_kda avg_game_time  first_blood_rate  hero_pool\n",
       "0  ECHO     0.720      6.6      00:16:16             0.480         37\n",
       "1   RRQ     0.609      5.2      00:18:31             0.609         37\n",
       "2    TV     0.600      6.9      00:16:41             0.600         29\n",
       "3  FCON     0.550      5.9      00:16:41             0.850         32\n",
       "4   INC     0.533      5.2      00:16:11             0.267         31"
      ]
     },
     "metadata": {},
     "output_type": "display_data"
    }
   ],
   "source": [
    "df_data = pd.read_excel(\"C:/Users/AGOY/Tugas Akhir 14117099 Mobile Legends/Mobile Legends Professional League.xlsx\")\n",
    "df_match = pd.read_excel(\"C:/Users/AGOY/Tugas Akhir 14117099 Mobile Legends/Mobile Legends Professional League.xlsx\", sheet_name=\"Match\")\n",
    "df_hero = pd.read_excel(\"C:/Users/AGOY/Tugas Akhir 14117099 Mobile Legends/Mobile Legends Professional League.xlsx\", sheet_name=\"Hero\")\n",
    "df_team = pd.read_excel(\"C:/Users/AGOY/Tugas Akhir 14117099 Mobile Legends/Mobile Legends Professional League.xlsx\", sheet_name=\"Team\")\n",
    "df_data = df_match\n",
    "\n",
    "print(f\"Shape Match Dataset: {df_match.shape}\")\n",
    "display(df_match.head())\n",
    "print(f\"Shape Hero Dataset: {df_hero.shape}\")\n",
    "display(df_hero.head())\n",
    "print(f\"Shape Team Dataset: {df_team.shape}\")\n",
    "display(df_team.head())"
   ]
  },
  {
   "cell_type": "markdown",
   "id": "175a065b",
   "metadata": {},
   "source": [
    "## Check Missing Value"
   ]
  },
  {
   "cell_type": "code",
   "execution_count": 4,
   "id": "a24299e2",
   "metadata": {},
   "outputs": [
    {
     "data": {
      "text/html": [
       "<div>\n",
       "<style scoped>\n",
       "    .dataframe tbody tr th:only-of-type {\n",
       "        vertical-align: middle;\n",
       "    }\n",
       "\n",
       "    .dataframe tbody tr th {\n",
       "        vertical-align: top;\n",
       "    }\n",
       "\n",
       "    .dataframe thead th {\n",
       "        text-align: right;\n",
       "    }\n",
       "</style>\n",
       "<table border=\"1\" class=\"dataframe\">\n",
       "  <thead>\n",
       "    <tr style=\"text-align: right;\">\n",
       "      <th></th>\n",
       "      <th>date</th>\n",
       "      <th>game</th>\n",
       "      <th>blue</th>\n",
       "      <th>red</th>\n",
       "      <th>time(minutes)</th>\n",
       "      <th>win</th>\n",
       "      <th>win_team</th>\n",
       "      <th>mvp</th>\n",
       "      <th>pick_blue_1</th>\n",
       "      <th>pick_blue_2</th>\n",
       "      <th>...</th>\n",
       "      <th>pick_red_1</th>\n",
       "      <th>pick_red_2</th>\n",
       "      <th>pick_red_3</th>\n",
       "      <th>pick_red_4</th>\n",
       "      <th>pick_red_5</th>\n",
       "      <th>ban_red_1</th>\n",
       "      <th>ban_red_2</th>\n",
       "      <th>ban_red_3</th>\n",
       "      <th>ban_red_4</th>\n",
       "      <th>ban_red_5</th>\n",
       "    </tr>\n",
       "  </thead>\n",
       "  <tbody>\n",
       "    <tr>\n",
       "      <th>NaN value</th>\n",
       "      <td>0</td>\n",
       "      <td>0</td>\n",
       "      <td>0</td>\n",
       "      <td>0</td>\n",
       "      <td>0</td>\n",
       "      <td>0</td>\n",
       "      <td>0</td>\n",
       "      <td>0</td>\n",
       "      <td>0</td>\n",
       "      <td>0</td>\n",
       "      <td>...</td>\n",
       "      <td>0</td>\n",
       "      <td>0</td>\n",
       "      <td>0</td>\n",
       "      <td>0</td>\n",
       "      <td>0</td>\n",
       "      <td>0</td>\n",
       "      <td>0</td>\n",
       "      <td>0</td>\n",
       "      <td>0</td>\n",
       "      <td>0</td>\n",
       "    </tr>\n",
       "  </tbody>\n",
       "</table>\n",
       "<p>1 rows × 28 columns</p>\n",
       "</div>"
      ],
      "text/plain": [
       "           date  game  blue  red  time(minutes)  win  win_team  mvp  \\\n",
       "NaN value     0     0     0    0              0    0         0    0   \n",
       "\n",
       "           pick_blue_1  pick_blue_2  ...  pick_red_1  pick_red_2  pick_red_3  \\\n",
       "NaN value            0            0  ...           0           0           0   \n",
       "\n",
       "           pick_red_4  pick_red_5  ban_red_1  ban_red_2  ban_red_3  ban_red_4  \\\n",
       "NaN value           0           0          0          0          0          0   \n",
       "\n",
       "           ban_red_5  \n",
       "NaN value          0  \n",
       "\n",
       "[1 rows x 28 columns]"
      ]
     },
     "execution_count": 4,
     "metadata": {},
     "output_type": "execute_result"
    }
   ],
   "source": [
    "#mengecek data apakah masih ada yang kosong\n",
    "df_data.isnull().sum().to_frame('NaN value').T"
   ]
  },
  {
   "cell_type": "markdown",
   "id": "390c6109",
   "metadata": {},
   "source": [
    "## Check Duplikat Data"
   ]
  },
  {
   "cell_type": "code",
   "execution_count": 5,
   "id": "395b742c",
   "metadata": {},
   "outputs": [
    {
     "name": "stdout",
     "output_type": "stream",
     "text": [
      "Duplicate Baris:\n",
      "Empty DataFrame\n",
      "Columns: [date, game, blue, red, time(minutes), win, win_team, mvp, pick_blue_1, pick_blue_2, pick_blue_3, pick_blue_4, pick_blue_5, ban_blue_1, ban_blue_2, ban_blue_3, ban_blue_4, ban_blue_5, pick_red_1, pick_red_2, pick_red_3, pick_red_4, pick_red_5, ban_red_1, ban_red_2, ban_red_3, ban_red_4, ban_red_5]\n",
      "Index: []\n",
      "\n",
      "[0 rows x 28 columns]\n"
     ]
    }
   ],
   "source": [
    "#print(df_data.duplicated().sum())\n",
    "duplicates = df_data.duplicated()\n",
    "df_data_rows = df_data[duplicates]\n",
    "print(\"Duplicate Baris:\")\n",
    "print(df_data_rows)"
   ]
  },
  {
   "cell_type": "markdown",
   "id": "46767ae6",
   "metadata": {},
   "source": [
    "# Preprocessing Data"
   ]
  },
  {
   "cell_type": "markdown",
   "id": "5979a292",
   "metadata": {},
   "source": [
    "## Label Encoder"
   ]
  },
  {
   "cell_type": "markdown",
   "id": "63788c51",
   "metadata": {},
   "source": [
    "### Binary-label"
   ]
  },
  {
   "cell_type": "code",
   "execution_count": 6,
   "id": "21f75b09",
   "metadata": {},
   "outputs": [
    {
     "name": "stdout",
     "output_type": "stream",
     "text": [
      "Red Team ['INC' 'MDH' 'FCON' 'MVG' 'BURN' 'TDK' 'OT' 'S11' 'TV' 'RRQ' 'RRQA' 'ONIC'\n",
      " 'BLCK' 'ECHO' 'THQ' 'RSG' 'NXPE' 'TNC' 'BREN' 'ONIC_PH' 'RSG_PH' 'OMG'\n",
      " 'AURA' 'RBL' 'BTR' 'GEEK' 'EVOS' 'AE'] \n",
      "\n",
      "Blue Team ['BLCK' 'MVG' 'INC' 'TDK' 'FCON' 'ONIC' 'RSG' 'TV' 'RRQ' 'RRQA' 'ECHO'\n",
      " 'THQ' 'MDH' 'BURN' 'OT' 'S11' 'TNC' 'NXPE' 'BREN' 'OMG' 'RSG_PH'\n",
      " 'ONIC_PH' 'RBL' 'AURA' 'AE' 'GEEK' 'EVOS' 'BTR']\n"
     ]
    }
   ],
   "source": [
    "print('Red Team',df_data['red'].unique(),'\\n')\n",
    "#df_data['win'].unique()\n",
    "print('Blue Team',df_data['blue'].unique())"
   ]
  },
  {
   "cell_type": "code",
   "execution_count": 7,
   "id": "a549ac3e",
   "metadata": {},
   "outputs": [
    {
     "name": "stdout",
     "output_type": "stream",
     "text": [
      "['blue' 'red']\n"
     ]
    }
   ],
   "source": [
    "## buat label baru dengan menggunakan index array yang muncul pada win dan mvp dari kolom/data sumbernya\n",
    "print(df_data['win_team'].unique())\n",
    "data = df_data\n",
    "#for i in df_data['win_team']:\n",
    "#  if df_data['blue'] in i == df_data['win_team']:\n",
    "#    df_data['win_team'] = '0'\n",
    "#  else:\n",
    "#    df_data['win_team'] = '1'\n",
    "\n",
    "red ='INC','MDH','FCON','MVG','BURN','TDK','OT','S11','TV','RRQ','RRQA','ONIC','BLCK','ECHO','THQ','RSG','NXPE','TNC','BREN','ONIC_PH','RSG_PH','OMG','AURA','RBL','BTR','GEEK','EVOS','AE'\n",
    "blue ='BLCK','MVG','INC','TDK','FCON','ONIC','RSG','TV','RRQ','RRQA','ECHO','THQ','MDH','BURN','OT','S11','TNC','NXPE','BREN','OMG','RSG_PH','ONIC_PH','RBL','AURA','AE','GEEK','EVOS','BTR'\n",
    "\n",
    "df_data['win_team'] = np.where(df_data['blue'] == df_data['win'], 0,1)\n",
    "#df_data['red'] = np.where(df_data['win_team'] == df_data['red'],1,0)"
   ]
  },
  {
   "cell_type": "markdown",
   "id": "2923d799",
   "metadata": {},
   "source": [
    "### Multi-label"
   ]
  },
  {
   "cell_type": "code",
   "execution_count": 8,
   "id": "a8212547",
   "metadata": {},
   "outputs": [
    {
     "data": {
      "text/html": [
       "<div>\n",
       "<style scoped>\n",
       "    .dataframe tbody tr th:only-of-type {\n",
       "        vertical-align: middle;\n",
       "    }\n",
       "\n",
       "    .dataframe tbody tr th {\n",
       "        vertical-align: top;\n",
       "    }\n",
       "\n",
       "    .dataframe thead th {\n",
       "        text-align: right;\n",
       "    }\n",
       "</style>\n",
       "<table border=\"1\" class=\"dataframe\">\n",
       "  <thead>\n",
       "    <tr style=\"text-align: right;\">\n",
       "      <th></th>\n",
       "      <th>date</th>\n",
       "      <th>game</th>\n",
       "      <th>blue</th>\n",
       "      <th>red</th>\n",
       "      <th>time(minutes)</th>\n",
       "      <th>win</th>\n",
       "      <th>win_team</th>\n",
       "      <th>mvp</th>\n",
       "      <th>pick_blue_1</th>\n",
       "      <th>pick_blue_2</th>\n",
       "      <th>...</th>\n",
       "      <th>pick_red_1</th>\n",
       "      <th>pick_red_2</th>\n",
       "      <th>pick_red_3</th>\n",
       "      <th>pick_red_4</th>\n",
       "      <th>pick_red_5</th>\n",
       "      <th>ban_red_1</th>\n",
       "      <th>ban_red_2</th>\n",
       "      <th>ban_red_3</th>\n",
       "      <th>ban_red_4</th>\n",
       "      <th>ban_red_5</th>\n",
       "    </tr>\n",
       "  </thead>\n",
       "  <tbody>\n",
       "    <tr>\n",
       "      <th>0</th>\n",
       "      <td>2023-01-01</td>\n",
       "      <td>1</td>\n",
       "      <td>BLCK</td>\n",
       "      <td>INC</td>\n",
       "      <td>12.37</td>\n",
       "      <td>BLCK</td>\n",
       "      <td>0</td>\n",
       "      <td>107</td>\n",
       "      <td>19</td>\n",
       "      <td>107</td>\n",
       "      <td>...</td>\n",
       "      <td>115</td>\n",
       "      <td>46</td>\n",
       "      <td>76</td>\n",
       "      <td>17</td>\n",
       "      <td>9</td>\n",
       "      <td>pharsa</td>\n",
       "      <td>wan_wan</td>\n",
       "      <td>gloo</td>\n",
       "      <td>diggie</td>\n",
       "      <td>estes</td>\n",
       "    </tr>\n",
       "    <tr>\n",
       "      <th>1</th>\n",
       "      <td>2023-01-01</td>\n",
       "      <td>2</td>\n",
       "      <td>MVG</td>\n",
       "      <td>MDH</td>\n",
       "      <td>16.03</td>\n",
       "      <td>MVG</td>\n",
       "      <td>0</td>\n",
       "      <td>65</td>\n",
       "      <td>42</td>\n",
       "      <td>39</td>\n",
       "      <td>...</td>\n",
       "      <td>70</td>\n",
       "      <td>74</td>\n",
       "      <td>36</td>\n",
       "      <td>26</td>\n",
       "      <td>25</td>\n",
       "      <td>kaja</td>\n",
       "      <td>wan_wan</td>\n",
       "      <td>hayabusa</td>\n",
       "      <td>beatrix</td>\n",
       "      <td>brody</td>\n",
       "    </tr>\n",
       "    <tr>\n",
       "      <th>2</th>\n",
       "      <td>2023-01-01</td>\n",
       "      <td>3</td>\n",
       "      <td>INC</td>\n",
       "      <td>FCON</td>\n",
       "      <td>14.28</td>\n",
       "      <td>INC</td>\n",
       "      <td>0</td>\n",
       "      <td>39</td>\n",
       "      <td>66</td>\n",
       "      <td>39</td>\n",
       "      <td>...</td>\n",
       "      <td>59</td>\n",
       "      <td>74</td>\n",
       "      <td>36</td>\n",
       "      <td>56</td>\n",
       "      <td>75</td>\n",
       "      <td>gloo</td>\n",
       "      <td>kaja</td>\n",
       "      <td>grock</td>\n",
       "      <td>lunox</td>\n",
       "      <td>yve</td>\n",
       "    </tr>\n",
       "    <tr>\n",
       "      <th>3</th>\n",
       "      <td>2023-01-01</td>\n",
       "      <td>4</td>\n",
       "      <td>TDK</td>\n",
       "      <td>MVG</td>\n",
       "      <td>11.46</td>\n",
       "      <td>TDK</td>\n",
       "      <td>0</td>\n",
       "      <td>94</td>\n",
       "      <td>70</td>\n",
       "      <td>52</td>\n",
       "      <td>...</td>\n",
       "      <td>105</td>\n",
       "      <td>39</td>\n",
       "      <td>92</td>\n",
       "      <td>65</td>\n",
       "      <td>25</td>\n",
       "      <td>gloo</td>\n",
       "      <td>fanny</td>\n",
       "      <td>joy</td>\n",
       "      <td>beatrix</td>\n",
       "      <td>brody</td>\n",
       "    </tr>\n",
       "    <tr>\n",
       "      <th>4</th>\n",
       "      <td>2023-01-01</td>\n",
       "      <td>5</td>\n",
       "      <td>FCON</td>\n",
       "      <td>BURN</td>\n",
       "      <td>20.21</td>\n",
       "      <td>FCON</td>\n",
       "      <td>0</td>\n",
       "      <td>50</td>\n",
       "      <td>39</td>\n",
       "      <td>35</td>\n",
       "      <td>...</td>\n",
       "      <td>70</td>\n",
       "      <td>74</td>\n",
       "      <td>36</td>\n",
       "      <td>50</td>\n",
       "      <td>45</td>\n",
       "      <td>gloo</td>\n",
       "      <td>kaja</td>\n",
       "      <td>grock</td>\n",
       "      <td>lunox</td>\n",
       "      <td>yve</td>\n",
       "    </tr>\n",
       "    <tr>\n",
       "      <th>...</th>\n",
       "      <td>...</td>\n",
       "      <td>...</td>\n",
       "      <td>...</td>\n",
       "      <td>...</td>\n",
       "      <td>...</td>\n",
       "      <td>...</td>\n",
       "      <td>...</td>\n",
       "      <td>...</td>\n",
       "      <td>...</td>\n",
       "      <td>...</td>\n",
       "      <td>...</td>\n",
       "      <td>...</td>\n",
       "      <td>...</td>\n",
       "      <td>...</td>\n",
       "      <td>...</td>\n",
       "      <td>...</td>\n",
       "      <td>...</td>\n",
       "      <td>...</td>\n",
       "      <td>...</td>\n",
       "      <td>...</td>\n",
       "      <td>...</td>\n",
       "    </tr>\n",
       "    <tr>\n",
       "      <th>437</th>\n",
       "      <td>2023-04-09</td>\n",
       "      <td>438</td>\n",
       "      <td>EVOS</td>\n",
       "      <td>ONIC</td>\n",
       "      <td>12.40</td>\n",
       "      <td>ONIC</td>\n",
       "      <td>1</td>\n",
       "      <td>107</td>\n",
       "      <td>70</td>\n",
       "      <td>69</td>\n",
       "      <td>...</td>\n",
       "      <td>42</td>\n",
       "      <td>35</td>\n",
       "      <td>107</td>\n",
       "      <td>110</td>\n",
       "      <td>63</td>\n",
       "      <td>claude</td>\n",
       "      <td>faramis</td>\n",
       "      <td>minsitthar</td>\n",
       "      <td>franco</td>\n",
       "      <td>diggie</td>\n",
       "    </tr>\n",
       "    <tr>\n",
       "      <th>438</th>\n",
       "      <td>2023-04-09</td>\n",
       "      <td>439</td>\n",
       "      <td>ONIC</td>\n",
       "      <td>EVOS</td>\n",
       "      <td>14.47</td>\n",
       "      <td>ONIC</td>\n",
       "      <td>0</td>\n",
       "      <td>61</td>\n",
       "      <td>42</td>\n",
       "      <td>69</td>\n",
       "      <td>...</td>\n",
       "      <td>70</td>\n",
       "      <td>79</td>\n",
       "      <td>92</td>\n",
       "      <td>86</td>\n",
       "      <td>29</td>\n",
       "      <td>joy</td>\n",
       "      <td>fredrinn</td>\n",
       "      <td>wan_wan</td>\n",
       "      <td>hayabusa</td>\n",
       "      <td>fanny</td>\n",
       "    </tr>\n",
       "    <tr>\n",
       "      <th>439</th>\n",
       "      <td>2023-04-09</td>\n",
       "      <td>440</td>\n",
       "      <td>ONIC</td>\n",
       "      <td>EVOS</td>\n",
       "      <td>13.52</td>\n",
       "      <td>ONIC</td>\n",
       "      <td>0</td>\n",
       "      <td>107</td>\n",
       "      <td>8</td>\n",
       "      <td>45</td>\n",
       "      <td>...</td>\n",
       "      <td>70</td>\n",
       "      <td>79</td>\n",
       "      <td>92</td>\n",
       "      <td>17</td>\n",
       "      <td>63</td>\n",
       "      <td>joy</td>\n",
       "      <td>fredrinn</td>\n",
       "      <td>wan_wan</td>\n",
       "      <td>kufra</td>\n",
       "      <td>ruby</td>\n",
       "    </tr>\n",
       "    <tr>\n",
       "      <th>440</th>\n",
       "      <td>2023-04-09</td>\n",
       "      <td>441</td>\n",
       "      <td>EVOS</td>\n",
       "      <td>ONIC</td>\n",
       "      <td>15.17</td>\n",
       "      <td>ONIC</td>\n",
       "      <td>1</td>\n",
       "      <td>92</td>\n",
       "      <td>8</td>\n",
       "      <td>69</td>\n",
       "      <td>...</td>\n",
       "      <td>39</td>\n",
       "      <td>52</td>\n",
       "      <td>92</td>\n",
       "      <td>50</td>\n",
       "      <td>25</td>\n",
       "      <td>claude</td>\n",
       "      <td>faramis</td>\n",
       "      <td>minsitthar</td>\n",
       "      <td>atlas</td>\n",
       "      <td>kaja</td>\n",
       "    </tr>\n",
       "    <tr>\n",
       "      <th>441</th>\n",
       "      <td>2023-07-14</td>\n",
       "      <td>442</td>\n",
       "      <td>AURA</td>\n",
       "      <td>RRQ</td>\n",
       "      <td>13.58</td>\n",
       "      <td>RRQ</td>\n",
       "      <td>1</td>\n",
       "      <td>61</td>\n",
       "      <td>105</td>\n",
       "      <td>52</td>\n",
       "      <td>...</td>\n",
       "      <td>91</td>\n",
       "      <td>16</td>\n",
       "      <td>61</td>\n",
       "      <td>26</td>\n",
       "      <td>63</td>\n",
       "      <td>joy</td>\n",
       "      <td>valentina</td>\n",
       "      <td>ling</td>\n",
       "      <td>lesley</td>\n",
       "      <td>harith</td>\n",
       "    </tr>\n",
       "  </tbody>\n",
       "</table>\n",
       "<p>442 rows × 28 columns</p>\n",
       "</div>"
      ],
      "text/plain": [
       "          date  game  blue   red  time(minutes)   win  win_team  mvp  \\\n",
       "0   2023-01-01     1  BLCK   INC          12.37  BLCK         0  107   \n",
       "1   2023-01-01     2   MVG   MDH          16.03   MVG         0   65   \n",
       "2   2023-01-01     3   INC  FCON          14.28   INC         0   39   \n",
       "3   2023-01-01     4   TDK   MVG          11.46   TDK         0   94   \n",
       "4   2023-01-01     5  FCON  BURN          20.21  FCON         0   50   \n",
       "..         ...   ...   ...   ...            ...   ...       ...  ...   \n",
       "437 2023-04-09   438  EVOS  ONIC          12.40  ONIC         1  107   \n",
       "438 2023-04-09   439  ONIC  EVOS          14.47  ONIC         0   61   \n",
       "439 2023-04-09   440  ONIC  EVOS          13.52  ONIC         0  107   \n",
       "440 2023-04-09   441  EVOS  ONIC          15.17  ONIC         1   92   \n",
       "441 2023-07-14   442  AURA   RRQ          13.58   RRQ         1   61   \n",
       "\n",
       "     pick_blue_1  pick_blue_2  ...  pick_red_1  pick_red_2  pick_red_3  \\\n",
       "0             19          107  ...         115          46          76   \n",
       "1             42           39  ...          70          74          36   \n",
       "2             66           39  ...          59          74          36   \n",
       "3             70           52  ...         105          39          92   \n",
       "4             39           35  ...          70          74          36   \n",
       "..           ...          ...  ...         ...         ...         ...   \n",
       "437           70           69  ...          42          35         107   \n",
       "438           42           69  ...          70          79          92   \n",
       "439            8           45  ...          70          79          92   \n",
       "440            8           69  ...          39          52          92   \n",
       "441          105           52  ...          91          16          61   \n",
       "\n",
       "    pick_red_4 pick_red_5 ban_red_1  ban_red_2   ban_red_3  ban_red_4  \\\n",
       "0           17          9    pharsa    wan_wan        gloo     diggie   \n",
       "1           26         25      kaja    wan_wan    hayabusa    beatrix   \n",
       "2           56         75      gloo       kaja       grock      lunox   \n",
       "3           65         25      gloo      fanny         joy    beatrix   \n",
       "4           50         45      gloo       kaja       grock      lunox   \n",
       "..         ...        ...       ...        ...         ...        ...   \n",
       "437        110         63    claude    faramis  minsitthar     franco   \n",
       "438         86         29       joy   fredrinn     wan_wan   hayabusa   \n",
       "439         17         63       joy   fredrinn     wan_wan      kufra   \n",
       "440         50         25    claude    faramis  minsitthar      atlas   \n",
       "441         26         63       joy  valentina        ling     lesley   \n",
       "\n",
       "     ban_red_5  \n",
       "0        estes  \n",
       "1        brody  \n",
       "2          yve  \n",
       "3        brody  \n",
       "4          yve  \n",
       "..         ...  \n",
       "437     diggie  \n",
       "438      fanny  \n",
       "439       ruby  \n",
       "440       kaja  \n",
       "441     harith  \n",
       "\n",
       "[442 rows x 28 columns]"
      ]
     },
     "execution_count": 8,
     "metadata": {},
     "output_type": "execute_result"
    }
   ],
   "source": [
    "# Numbering Match Team\n",
    "from sklearn import preprocessing\n",
    "\n",
    "le_hero = preprocessing.LabelEncoder()\n",
    "le_team = preprocessing.LabelEncoder()\n",
    "\n",
    "#hero\n",
    "hero_enc = le_hero.fit(df_hero['hero'])\n",
    "df_data = df_match.copy()\n",
    "\n",
    "#team\n",
    "team_enc = le_team.fit(df_team['team'])\n",
    "df_data = df_match.copy()\n",
    "\n",
    "## MVP\n",
    "df_data['mvp'] = le_hero.transform(df_data['mvp'])\n",
    "\n",
    "#team\n",
    "#df_data['blue'] = le_team.transform(df_data['blue'])\n",
    "#df_data['red'] = le_team.transform(df_data['red'])\n",
    "# df_data['win'] = le_team.transform(df_data['win'])\n",
    "\n",
    "#Blue Team\n",
    "df_data['pick_blue_1'] = le_hero.transform(df_data['pick_blue_1'])\n",
    "df_data['pick_blue_2'] = le_hero.transform(df_data['pick_blue_2'])\n",
    "df_data['pick_blue_3'] = le_hero.transform(df_data['pick_blue_3'])\n",
    "df_data['pick_blue_4'] = le_hero.transform(df_data['pick_blue_4'])\n",
    "df_data['pick_blue_5'] = le_hero.transform(df_data['pick_blue_5'])\n",
    "\n",
    "#Red Team\n",
    "df_data['pick_red_1'] = le_hero.transform(df_data['pick_red_1'])\n",
    "df_data['pick_red_2'] = le_hero.transform(df_data['pick_red_2'])\n",
    "df_data['pick_red_3'] = le_hero.transform(df_data['pick_red_3'])\n",
    "df_data['pick_red_4'] = le_hero.transform(df_data['pick_red_4'])\n",
    "df_data['pick_red_5'] = le_hero.transform(df_data['pick_red_5'])\n",
    "\n",
    "\n",
    "df_data"
   ]
  },
  {
   "cell_type": "markdown",
   "id": "a06ac45e",
   "metadata": {},
   "source": [
    "### Check List Labelling"
   ]
  },
  {
   "cell_type": "code",
   "execution_count": 9,
   "id": "d9ee92dc",
   "metadata": {},
   "outputs": [
    {
     "name": "stdout",
     "output_type": "stream",
     "text": [
      "List nama Hero: {'aamon': 0, 'akai': 1, 'aldous': 2, 'alice': 3, 'alpha': 4, 'alucard': 5, 'angela': 6, 'argus': 7, 'arlott': 8, 'atlas': 9, 'aulus': 10, 'aurora': 11, 'badang': 12, 'balmond': 13, 'bane': 14, 'barats': 15, 'baxia': 16, 'beatrix': 17, 'belerick': 18, 'benedetta': 19, 'brody': 20, 'bruno': 21, 'carmilla': 22, 'cecilion': 23, 'change': 24, 'chou': 25, 'claude': 26, 'clint': 27, 'cyclops': 28, 'diggie': 29, 'dyrroth': 30, 'edith': 31, 'esmeralda': 32, 'estes': 33, 'eudora': 34, 'fanny': 35, 'faramis': 36, 'floryn': 37, 'franco': 38, 'fredrinn': 39, 'freya': 40, 'gatotkaca': 41, 'gloo': 42, 'gord': 43, 'granger': 44, 'grock': 45, 'guinevere': 46, 'gusion': 47, 'hanabi': 48, 'hanzo': 49, 'harith': 50, 'harley': 51, 'hayabusa': 52, 'helcurt': 53, 'hilda': 54, 'hylos': 55, 'irithel': 56, 'jawhead': 57, 'johnson': 58, 'joy': 59, 'julian': 60, 'kadita': 61, 'kagura': 62, 'kaja': 63, 'karina': 64, 'karrie': 65, 'khaleed': 66, 'kimmy': 67, 'kufra': 68, 'lancelot': 69, 'lapu_lapu': 70, 'layla': 71, 'leomord': 72, 'lesley': 73, 'ling': 74, 'lolita': 75, 'lunox': 76, 'luo_yi': 77, 'lylia': 78, 'martis': 79, 'masha': 80, 'mathilda': 81, 'melissa': 82, 'minotour': 83, 'minsitthar': 84, 'miya': 85, 'moskov': 86, 'nana': 87, 'natalia': 88, 'natan': 89, 'odette': 90, 'paquito': 91, 'pharsa': 92, 'phoveus': 93, 'popol_kupa': 94, 'rafaela': 95, 'roger': 96, 'ruby': 97, 'saber': 98, 'selena': 99, 'silvana': 100, 'sun': 101, 'terizla': 102, 'thamuz': 103, 'tigreal': 104, 'uranus': 105, 'vale': 106, 'valentina': 107, 'valir': 108, 'vexana': 109, 'wan_wan': 110, 'xavier': 111, 'xborg': 112, 'yi_sun_shin': 113, 'yin': 114, 'yu_zhong': 115, 'yve': 116, 'zhask': 117, 'zilong': 118}\n",
      "List nama Team: {'BLCK': 0, 'BREN': 1, 'BURN': 2, 'ECHO': 3, 'FCON': 4, 'INC': 5, 'MDH': 6, 'MVG': 7, 'NXPE': 8, 'OMG': 9, 'ONIC': 10, 'ONIC_PH': 11, 'OT': 12, 'RRQ': 13, 'RRQA': 14, 'RSG': 15, 'RSG_PH': 16, 'S11': 17, 'TDK': 18, 'THQ': 19, 'TNC': 20, 'TV': 21}\n"
     ]
    }
   ],
   "source": [
    "le_name_mapping_hero = dict(zip(le_hero.classes_, le_hero.transform(le_hero.classes_)))\n",
    "le_name_mapping_team = dict(zip(le_team.classes_, le_team.transform(le_team.classes_)))\n",
    "\n",
    "#print(f\"Shape Match Dataset: {df_match.shape}\")\n",
    "print(f\"List nama Hero: {le_name_mapping_hero}\")\n",
    "print(f\"List nama Team: {le_name_mapping_team}\")"
   ]
  },
  {
   "cell_type": "markdown",
   "id": "c1b2fb0c",
   "metadata": {},
   "source": [
    "## Drop Columns"
   ]
  },
  {
   "cell_type": "code",
   "execution_count": 10,
   "id": "43514ed0",
   "metadata": {},
   "outputs": [
    {
     "name": "stdout",
     "output_type": "stream",
     "text": [
      "<class 'pandas.core.frame.DataFrame'>\n",
      "RangeIndex: 442 entries, 0 to 441\n",
      "Data columns (total 28 columns):\n",
      " #   Column         Non-Null Count  Dtype         \n",
      "---  ------         --------------  -----         \n",
      " 0   date           442 non-null    datetime64[ns]\n",
      " 1   game           442 non-null    int64         \n",
      " 2   blue           442 non-null    object        \n",
      " 3   red            442 non-null    object        \n",
      " 4   time(minutes)  442 non-null    float64       \n",
      " 5   win            442 non-null    object        \n",
      " 6   win_team       442 non-null    int32         \n",
      " 7   mvp            442 non-null    int32         \n",
      " 8   pick_blue_1    442 non-null    int32         \n",
      " 9   pick_blue_2    442 non-null    int32         \n",
      " 10  pick_blue_3    442 non-null    int32         \n",
      " 11  pick_blue_4    442 non-null    int32         \n",
      " 12  pick_blue_5    442 non-null    int32         \n",
      " 13  ban_blue_1     442 non-null    object        \n",
      " 14  ban_blue_2     442 non-null    object        \n",
      " 15  ban_blue_3     442 non-null    object        \n",
      " 16  ban_blue_4     442 non-null    object        \n",
      " 17  ban_blue_5     442 non-null    object        \n",
      " 18  pick_red_1     442 non-null    int32         \n",
      " 19  pick_red_2     442 non-null    int32         \n",
      " 20  pick_red_3     442 non-null    int32         \n",
      " 21  pick_red_4     442 non-null    int32         \n",
      " 22  pick_red_5     442 non-null    int32         \n",
      " 23  ban_red_1      442 non-null    object        \n",
      " 24  ban_red_2      442 non-null    object        \n",
      " 25  ban_red_3      442 non-null    object        \n",
      " 26  ban_red_4      442 non-null    object        \n",
      " 27  ban_red_5      442 non-null    object        \n",
      "dtypes: datetime64[ns](1), float64(1), int32(12), int64(1), object(13)\n",
      "memory usage: 76.1+ KB\n"
     ]
    }
   ],
   "source": [
    "df_data.info()"
   ]
  },
  {
   "cell_type": "code",
   "execution_count": 11,
   "id": "cadbe140",
   "metadata": {},
   "outputs": [
    {
     "data": {
      "text/html": [
       "<div>\n",
       "<style scoped>\n",
       "    .dataframe tbody tr th:only-of-type {\n",
       "        vertical-align: middle;\n",
       "    }\n",
       "\n",
       "    .dataframe tbody tr th {\n",
       "        vertical-align: top;\n",
       "    }\n",
       "\n",
       "    .dataframe thead th {\n",
       "        text-align: right;\n",
       "    }\n",
       "</style>\n",
       "<table border=\"1\" class=\"dataframe\">\n",
       "  <thead>\n",
       "    <tr style=\"text-align: right;\">\n",
       "      <th></th>\n",
       "      <th>win_team</th>\n",
       "      <th>pick_blue_1</th>\n",
       "      <th>pick_blue_2</th>\n",
       "      <th>pick_blue_3</th>\n",
       "      <th>pick_blue_4</th>\n",
       "      <th>pick_blue_5</th>\n",
       "      <th>pick_red_1</th>\n",
       "      <th>pick_red_2</th>\n",
       "      <th>pick_red_3</th>\n",
       "      <th>pick_red_4</th>\n",
       "      <th>pick_red_5</th>\n",
       "    </tr>\n",
       "  </thead>\n",
       "  <tbody>\n",
       "    <tr>\n",
       "      <th>0</th>\n",
       "      <td>0</td>\n",
       "      <td>19</td>\n",
       "      <td>107</td>\n",
       "      <td>61</td>\n",
       "      <td>65</td>\n",
       "      <td>63</td>\n",
       "      <td>115</td>\n",
       "      <td>46</td>\n",
       "      <td>76</td>\n",
       "      <td>17</td>\n",
       "      <td>9</td>\n",
       "    </tr>\n",
       "    <tr>\n",
       "      <th>1</th>\n",
       "      <td>0</td>\n",
       "      <td>42</td>\n",
       "      <td>39</td>\n",
       "      <td>116</td>\n",
       "      <td>65</td>\n",
       "      <td>75</td>\n",
       "      <td>70</td>\n",
       "      <td>74</td>\n",
       "      <td>36</td>\n",
       "      <td>26</td>\n",
       "      <td>25</td>\n",
       "    </tr>\n",
       "    <tr>\n",
       "      <th>2</th>\n",
       "      <td>0</td>\n",
       "      <td>66</td>\n",
       "      <td>39</td>\n",
       "      <td>92</td>\n",
       "      <td>110</td>\n",
       "      <td>33</td>\n",
       "      <td>59</td>\n",
       "      <td>74</td>\n",
       "      <td>36</td>\n",
       "      <td>56</td>\n",
       "      <td>75</td>\n",
       "    </tr>\n",
       "    <tr>\n",
       "      <th>3</th>\n",
       "      <td>0</td>\n",
       "      <td>70</td>\n",
       "      <td>52</td>\n",
       "      <td>107</td>\n",
       "      <td>94</td>\n",
       "      <td>63</td>\n",
       "      <td>105</td>\n",
       "      <td>39</td>\n",
       "      <td>92</td>\n",
       "      <td>65</td>\n",
       "      <td>25</td>\n",
       "    </tr>\n",
       "    <tr>\n",
       "      <th>4</th>\n",
       "      <td>0</td>\n",
       "      <td>39</td>\n",
       "      <td>35</td>\n",
       "      <td>116</td>\n",
       "      <td>65</td>\n",
       "      <td>81</td>\n",
       "      <td>70</td>\n",
       "      <td>74</td>\n",
       "      <td>36</td>\n",
       "      <td>50</td>\n",
       "      <td>45</td>\n",
       "    </tr>\n",
       "    <tr>\n",
       "      <th>...</th>\n",
       "      <td>...</td>\n",
       "      <td>...</td>\n",
       "      <td>...</td>\n",
       "      <td>...</td>\n",
       "      <td>...</td>\n",
       "      <td>...</td>\n",
       "      <td>...</td>\n",
       "      <td>...</td>\n",
       "      <td>...</td>\n",
       "      <td>...</td>\n",
       "      <td>...</td>\n",
       "    </tr>\n",
       "    <tr>\n",
       "      <th>437</th>\n",
       "      <td>1</td>\n",
       "      <td>70</td>\n",
       "      <td>69</td>\n",
       "      <td>92</td>\n",
       "      <td>17</td>\n",
       "      <td>75</td>\n",
       "      <td>42</td>\n",
       "      <td>35</td>\n",
       "      <td>107</td>\n",
       "      <td>110</td>\n",
       "      <td>63</td>\n",
       "    </tr>\n",
       "    <tr>\n",
       "      <th>438</th>\n",
       "      <td>0</td>\n",
       "      <td>42</td>\n",
       "      <td>69</td>\n",
       "      <td>61</td>\n",
       "      <td>82</td>\n",
       "      <td>54</td>\n",
       "      <td>70</td>\n",
       "      <td>79</td>\n",
       "      <td>92</td>\n",
       "      <td>86</td>\n",
       "      <td>29</td>\n",
       "    </tr>\n",
       "    <tr>\n",
       "      <th>439</th>\n",
       "      <td>0</td>\n",
       "      <td>8</td>\n",
       "      <td>45</td>\n",
       "      <td>107</td>\n",
       "      <td>82</td>\n",
       "      <td>61</td>\n",
       "      <td>70</td>\n",
       "      <td>79</td>\n",
       "      <td>92</td>\n",
       "      <td>17</td>\n",
       "      <td>63</td>\n",
       "    </tr>\n",
       "    <tr>\n",
       "      <th>440</th>\n",
       "      <td>1</td>\n",
       "      <td>8</td>\n",
       "      <td>69</td>\n",
       "      <td>107</td>\n",
       "      <td>17</td>\n",
       "      <td>45</td>\n",
       "      <td>39</td>\n",
       "      <td>52</td>\n",
       "      <td>92</td>\n",
       "      <td>50</td>\n",
       "      <td>25</td>\n",
       "    </tr>\n",
       "    <tr>\n",
       "      <th>441</th>\n",
       "      <td>1</td>\n",
       "      <td>105</td>\n",
       "      <td>52</td>\n",
       "      <td>116</td>\n",
       "      <td>17</td>\n",
       "      <td>68</td>\n",
       "      <td>91</td>\n",
       "      <td>16</td>\n",
       "      <td>61</td>\n",
       "      <td>26</td>\n",
       "      <td>63</td>\n",
       "    </tr>\n",
       "  </tbody>\n",
       "</table>\n",
       "<p>442 rows × 11 columns</p>\n",
       "</div>"
      ],
      "text/plain": [
       "     win_team  pick_blue_1  pick_blue_2  pick_blue_3  pick_blue_4  \\\n",
       "0           0           19          107           61           65   \n",
       "1           0           42           39          116           65   \n",
       "2           0           66           39           92          110   \n",
       "3           0           70           52          107           94   \n",
       "4           0           39           35          116           65   \n",
       "..        ...          ...          ...          ...          ...   \n",
       "437         1           70           69           92           17   \n",
       "438         0           42           69           61           82   \n",
       "439         0            8           45          107           82   \n",
       "440         1            8           69          107           17   \n",
       "441         1          105           52          116           17   \n",
       "\n",
       "     pick_blue_5  pick_red_1  pick_red_2  pick_red_3  pick_red_4  pick_red_5  \n",
       "0             63         115          46          76          17           9  \n",
       "1             75          70          74          36          26          25  \n",
       "2             33          59          74          36          56          75  \n",
       "3             63         105          39          92          65          25  \n",
       "4             81          70          74          36          50          45  \n",
       "..           ...         ...         ...         ...         ...         ...  \n",
       "437           75          42          35         107         110          63  \n",
       "438           54          70          79          92          86          29  \n",
       "439           61          70          79          92          17          63  \n",
       "440           45          39          52          92          50          25  \n",
       "441           68          91          16          61          26          63  \n",
       "\n",
       "[442 rows x 11 columns]"
      ]
     },
     "metadata": {},
     "output_type": "display_data"
    },
    {
     "name": "stdout",
     "output_type": "stream",
     "text": [
      "<class 'pandas.core.frame.DataFrame'>\n",
      "RangeIndex: 442 entries, 0 to 441\n",
      "Data columns (total 11 columns):\n",
      " #   Column       Non-Null Count  Dtype\n",
      "---  ------       --------------  -----\n",
      " 0   win_team     442 non-null    int32\n",
      " 1   pick_blue_1  442 non-null    int32\n",
      " 2   pick_blue_2  442 non-null    int32\n",
      " 3   pick_blue_3  442 non-null    int32\n",
      " 4   pick_blue_4  442 non-null    int32\n",
      " 5   pick_blue_5  442 non-null    int32\n",
      " 6   pick_red_1   442 non-null    int32\n",
      " 7   pick_red_2   442 non-null    int32\n",
      " 8   pick_red_3   442 non-null    int32\n",
      " 9   pick_red_4   442 non-null    int32\n",
      " 10  pick_red_5   442 non-null    int32\n",
      "dtypes: int32(11)\n",
      "memory usage: 19.1 KB\n"
     ]
    }
   ],
   "source": [
    "'''\n",
    "### exclude column yang tidak penting :\n",
    "date, time, game, mvp\n",
    "'ban_blue_1', 'ban_blue_2', 'ban_blue_3', 'ban_blue_4', 'ban_blue_5',\n",
    "'ban_red_1', 'ban_red_2', 'ban_red_3', 'ban_red_4', 'ban_red_5',avg_win_rate_team_bl\\\n",
    "'''\n",
    "#df_data.drop(['avg_win_rate_team_blue','avg_win_rate_hero_blue','avg_win_rate_team_red', 'avg_win_rate_hero_red'],axis=1,inplace=True)\n",
    "df_data.drop(['blue','red','date', 'time(minutes)', 'win','game','mvp',\n",
    "            'ban_blue_1', 'ban_blue_2', 'ban_blue_3',\n",
    "            'ban_blue_4', 'ban_blue_5', 'ban_red_1',\n",
    "            'ban_red_2', 'ban_red_3', 'ban_red_4', 'ban_red_5'],\n",
    "            axis=1,\n",
    "            inplace=True)\n",
    "\n",
    "display(df_data)\n",
    "df_data.info()"
   ]
  },
  {
   "cell_type": "markdown",
   "id": "63ac5e44",
   "metadata": {},
   "source": [
    "# Data Correlation"
   ]
  },
  {
   "cell_type": "code",
   "execution_count": 12,
   "id": "ade34dd0",
   "metadata": {},
   "outputs": [
    {
     "data": {
      "text/plain": [
       "<AxesSubplot:>"
      ]
     },
     "execution_count": 12,
     "metadata": {},
     "output_type": "execute_result"
    },
    {
     "data": {
      "image/png": "[encoded data removed]",
      "text/plain": [
       "<Figure size 720x720 with 2 Axes>"
      ]
     },
     "metadata": {
      "needs_background": "light"
     },
     "output_type": "display_data"
    }
   ],
   "source": [
    "PearsonCorr = df_data.corr(method=\"pearson\")\n",
    "matplotlib.pyplot.figure(figsize=(10,10))\n",
    "sns.heatmap(PearsonCorr, vmax=.9, square=True,cmap=\"viridis\",annot_kws={\"size\":10},annot=True, fmt=\".4f\")"
   ]
  },
  {
   "cell_type": "code",
   "execution_count": 13,
   "id": "e4084ae6",
   "metadata": {},
   "outputs": [
    {
     "data": {
      "text/plain": [
       "<AxesSubplot:>"
      ]
     },
     "execution_count": 13,
     "metadata": {},
     "output_type": "execute_result"
    },
    {
     "data": {
      "image/png": "[encoded data removed]",
      "text/plain": [
       "<Figure size 720x720 with 2 Axes>"
      ]
     },
     "metadata": {
      "needs_background": "light"
     },
     "output_type": "display_data"
    }
   ],
   "source": [
    "PearsonCorr = df_data.corr(method=\"spearman\")\n",
    "matplotlib.pyplot.figure(figsize=(10,10))\n",
    "sns.heatmap(PearsonCorr, vmax=.9, square=True,cmap=\"viridis\",annot_kws={\"size\":10},annot=True, fmt=\".4f\")"
   ]
  },
  {
   "cell_type": "code",
   "execution_count": 14,
   "id": "c17b6ad1",
   "metadata": {},
   "outputs": [
    {
     "data": {
      "text/plain": [
       "<AxesSubplot:>"
      ]
     },
     "execution_count": 14,
     "metadata": {},
     "output_type": "execute_result"
    },
    {
     "data": {
      "image/png": "[encoded data removed]",
      "text/plain": [
       "<Figure size 720x720 with 2 Axes>"
      ]
     },
     "metadata": {
      "needs_background": "light"
     },
     "output_type": "display_data"
    }
   ],
   "source": [
    "PearsonCorr = df_data.corr(method=\"kendall\")\n",
    "matplotlib.pyplot.figure(figsize=(10,10))\n",
    "sns.heatmap(PearsonCorr, vmax=.9, square=True,cmap=\"viridis\",annot_kws={\"size\":10},annot=True, fmt=\".4f\")"
   ]
  },
  {
   "cell_type": "markdown",
   "id": "bd53be56",
   "metadata": {},
   "source": [
    "## Balancing Data"
   ]
  },
  {
   "cell_type": "code",
   "execution_count": 15,
   "id": "1f272bad",
   "metadata": {},
   "outputs": [
    {
     "name": "stdout",
     "output_type": "stream",
     "text": [
      "win_team\n",
      "0    229\n",
      "1    213\n",
      "Name: win_team, dtype: int64\n"
     ]
    },
    {
     "data": {
      "text/plain": [
       "<AxesSubplot:xlabel='win_team', ylabel='count'>"
      ]
     },
     "execution_count": 15,
     "metadata": {},
     "output_type": "execute_result"
    },
    {
     "data": {
      "image/png": "[encoded data removed]",
      "text/plain": [
       "<Figure size 432x288 with 1 Axes>"
      ]
     },
     "metadata": {
      "needs_background": "light"
     },
     "output_type": "display_data"
    }
   ],
   "source": [
    "#cek banyak data di kedua komposisi tim baik(0) biru atau merah(1)\n",
    "print(df_data.groupby(['win_team'])[\"win_team\"].count())\n",
    "sns.countplot(x=df_data[\"win_team\"])"
   ]
  },
  {
   "cell_type": "code",
   "execution_count": 16,
   "id": "2bf023d4",
   "metadata": {},
   "outputs": [
    {
     "name": "stdout",
     "output_type": "stream",
     "text": [
      "win_team\n",
      "0    213\n",
      "1    213\n",
      "Name: win_team, dtype: int64\n"
     ]
    },
    {
     "data": {
      "text/plain": [
       "<AxesSubplot:xlabel='win_team', ylabel='count'>"
      ]
     },
     "execution_count": 16,
     "metadata": {},
     "output_type": "execute_result"
    },
    {
     "data": {
      "image/png": "[encoded data removed]",
      "text/plain": [
       "<Figure size 432x288 with 1 Axes>"
      ]
     },
     "metadata": {
      "needs_background": "light"
     },
     "output_type": "display_data"
    }
   ],
   "source": [
    "  n_red = (df_data['win_team'] == 1).sum()\n",
    "n_blue = (df_data['win_team'] == 0).sum()\n",
    "\n",
    "if n_blue - n_red >= 0:\n",
    "    win_blue = True\n",
    "else:\n",
    "    win_blue = False\n",
    "\n",
    "if win_blue:\n",
    "    num_rows_to_drop = min(n_blue - n_red, (df_data['win_team'] == 1).sum())\n",
    "    rows_to_drop = df_data[df_data['win_team'] == 0].sample(num_rows_to_drop).index\n",
    "else:\n",
    "    num_rows_to_drop = min(n_red - n_blue, (df_data['win_team'] == 0).sum())\n",
    "    rows_to_drop = df_data[df_data['win_team'] == 1].sample(num_rows_to_drop).index\n",
    "\n",
    "df_data = df_data.drop(rows_to_drop)\n",
    "print(df_data.groupby(['win_team'])[\"win_team\"].count())\n",
    "sns.countplot(x=df_data[\"win_team\"])"
   ]
  },
  {
   "cell_type": "markdown",
   "id": "d3e45d77",
   "metadata": {},
   "source": [
    "### Memisahkan data dependen dan idependen"
   ]
  },
  {
   "cell_type": "code",
   "execution_count": 17,
   "id": "7929db49",
   "metadata": {
    "scrolled": true
   },
   "outputs": [
    {
     "data": {
      "text/html": [
       "<div>\n",
       "<style scoped>\n",
       "    .dataframe tbody tr th:only-of-type {\n",
       "        vertical-align: middle;\n",
       "    }\n",
       "\n",
       "    .dataframe tbody tr th {\n",
       "        vertical-align: top;\n",
       "    }\n",
       "\n",
       "    .dataframe thead th {\n",
       "        text-align: right;\n",
       "    }\n",
       "</style>\n",
       "<table border=\"1\" class=\"dataframe\">\n",
       "  <thead>\n",
       "    <tr style=\"text-align: right;\">\n",
       "      <th></th>\n",
       "      <th>win_team</th>\n",
       "      <th>pick_blue_1</th>\n",
       "      <th>pick_blue_2</th>\n",
       "      <th>pick_blue_3</th>\n",
       "      <th>pick_blue_4</th>\n",
       "      <th>pick_blue_5</th>\n",
       "      <th>pick_red_1</th>\n",
       "      <th>pick_red_2</th>\n",
       "      <th>pick_red_3</th>\n",
       "      <th>pick_red_4</th>\n",
       "      <th>pick_red_5</th>\n",
       "    </tr>\n",
       "  </thead>\n",
       "  <tbody>\n",
       "    <tr>\n",
       "      <th>0</th>\n",
       "      <td>0</td>\n",
       "      <td>19</td>\n",
       "      <td>107</td>\n",
       "      <td>61</td>\n",
       "      <td>65</td>\n",
       "      <td>63</td>\n",
       "      <td>115</td>\n",
       "      <td>46</td>\n",
       "      <td>76</td>\n",
       "      <td>17</td>\n",
       "      <td>9</td>\n",
       "    </tr>\n",
       "    <tr>\n",
       "      <th>1</th>\n",
       "      <td>0</td>\n",
       "      <td>42</td>\n",
       "      <td>39</td>\n",
       "      <td>116</td>\n",
       "      <td>65</td>\n",
       "      <td>75</td>\n",
       "      <td>70</td>\n",
       "      <td>74</td>\n",
       "      <td>36</td>\n",
       "      <td>26</td>\n",
       "      <td>25</td>\n",
       "    </tr>\n",
       "    <tr>\n",
       "      <th>2</th>\n",
       "      <td>0</td>\n",
       "      <td>66</td>\n",
       "      <td>39</td>\n",
       "      <td>92</td>\n",
       "      <td>110</td>\n",
       "      <td>33</td>\n",
       "      <td>59</td>\n",
       "      <td>74</td>\n",
       "      <td>36</td>\n",
       "      <td>56</td>\n",
       "      <td>75</td>\n",
       "    </tr>\n",
       "    <tr>\n",
       "      <th>3</th>\n",
       "      <td>0</td>\n",
       "      <td>70</td>\n",
       "      <td>52</td>\n",
       "      <td>107</td>\n",
       "      <td>94</td>\n",
       "      <td>63</td>\n",
       "      <td>105</td>\n",
       "      <td>39</td>\n",
       "      <td>92</td>\n",
       "      <td>65</td>\n",
       "      <td>25</td>\n",
       "    </tr>\n",
       "    <tr>\n",
       "      <th>4</th>\n",
       "      <td>0</td>\n",
       "      <td>39</td>\n",
       "      <td>35</td>\n",
       "      <td>116</td>\n",
       "      <td>65</td>\n",
       "      <td>81</td>\n",
       "      <td>70</td>\n",
       "      <td>74</td>\n",
       "      <td>36</td>\n",
       "      <td>50</td>\n",
       "      <td>45</td>\n",
       "    </tr>\n",
       "    <tr>\n",
       "      <th>...</th>\n",
       "      <td>...</td>\n",
       "      <td>...</td>\n",
       "      <td>...</td>\n",
       "      <td>...</td>\n",
       "      <td>...</td>\n",
       "      <td>...</td>\n",
       "      <td>...</td>\n",
       "      <td>...</td>\n",
       "      <td>...</td>\n",
       "      <td>...</td>\n",
       "      <td>...</td>\n",
       "    </tr>\n",
       "    <tr>\n",
       "      <th>437</th>\n",
       "      <td>1</td>\n",
       "      <td>70</td>\n",
       "      <td>69</td>\n",
       "      <td>92</td>\n",
       "      <td>17</td>\n",
       "      <td>75</td>\n",
       "      <td>42</td>\n",
       "      <td>35</td>\n",
       "      <td>107</td>\n",
       "      <td>110</td>\n",
       "      <td>63</td>\n",
       "    </tr>\n",
       "    <tr>\n",
       "      <th>438</th>\n",
       "      <td>0</td>\n",
       "      <td>42</td>\n",
       "      <td>69</td>\n",
       "      <td>61</td>\n",
       "      <td>82</td>\n",
       "      <td>54</td>\n",
       "      <td>70</td>\n",
       "      <td>79</td>\n",
       "      <td>92</td>\n",
       "      <td>86</td>\n",
       "      <td>29</td>\n",
       "    </tr>\n",
       "    <tr>\n",
       "      <th>439</th>\n",
       "      <td>0</td>\n",
       "      <td>8</td>\n",
       "      <td>45</td>\n",
       "      <td>107</td>\n",
       "      <td>82</td>\n",
       "      <td>61</td>\n",
       "      <td>70</td>\n",
       "      <td>79</td>\n",
       "      <td>92</td>\n",
       "      <td>17</td>\n",
       "      <td>63</td>\n",
       "    </tr>\n",
       "    <tr>\n",
       "      <th>440</th>\n",
       "      <td>1</td>\n",
       "      <td>8</td>\n",
       "      <td>69</td>\n",
       "      <td>107</td>\n",
       "      <td>17</td>\n",
       "      <td>45</td>\n",
       "      <td>39</td>\n",
       "      <td>52</td>\n",
       "      <td>92</td>\n",
       "      <td>50</td>\n",
       "      <td>25</td>\n",
       "    </tr>\n",
       "    <tr>\n",
       "      <th>441</th>\n",
       "      <td>1</td>\n",
       "      <td>105</td>\n",
       "      <td>52</td>\n",
       "      <td>116</td>\n",
       "      <td>17</td>\n",
       "      <td>68</td>\n",
       "      <td>91</td>\n",
       "      <td>16</td>\n",
       "      <td>61</td>\n",
       "      <td>26</td>\n",
       "      <td>63</td>\n",
       "    </tr>\n",
       "  </tbody>\n",
       "</table>\n",
       "<p>426 rows × 11 columns</p>\n",
       "</div>"
      ],
      "text/plain": [
       "     win_team  pick_blue_1  pick_blue_2  pick_blue_3  pick_blue_4  \\\n",
       "0           0           19          107           61           65   \n",
       "1           0           42           39          116           65   \n",
       "2           0           66           39           92          110   \n",
       "3           0           70           52          107           94   \n",
       "4           0           39           35          116           65   \n",
       "..        ...          ...          ...          ...          ...   \n",
       "437         1           70           69           92           17   \n",
       "438         0           42           69           61           82   \n",
       "439         0            8           45          107           82   \n",
       "440         1            8           69          107           17   \n",
       "441         1          105           52          116           17   \n",
       "\n",
       "     pick_blue_5  pick_red_1  pick_red_2  pick_red_3  pick_red_4  pick_red_5  \n",
       "0             63         115          46          76          17           9  \n",
       "1             75          70          74          36          26          25  \n",
       "2             33          59          74          36          56          75  \n",
       "3             63         105          39          92          65          25  \n",
       "4             81          70          74          36          50          45  \n",
       "..           ...         ...         ...         ...         ...         ...  \n",
       "437           75          42          35         107         110          63  \n",
       "438           54          70          79          92          86          29  \n",
       "439           61          70          79          92          17          63  \n",
       "440           45          39          52          92          50          25  \n",
       "441           68          91          16          61          26          63  \n",
       "\n",
       "[426 rows x 11 columns]"
      ]
     },
     "execution_count": 17,
     "metadata": {},
     "output_type": "execute_result"
    }
   ],
   "source": [
    "#df_data.pop(\"win\",\"mvp\")\n",
    "df_temp = df_data.copy()\n",
    "df_temp"
   ]
  },
  {
   "cell_type": "code",
   "execution_count": 18,
   "id": "a39e43e1",
   "metadata": {},
   "outputs": [
    {
     "name": "stdout",
     "output_type": "stream",
     "text": [
      "Variabel independen:\n",
      "   pick_blue_1  pick_blue_2  pick_blue_3  pick_blue_4  pick_blue_5  \\\n",
      "0           19          107           61           65           63   \n",
      "1           42           39          116           65           75   \n",
      "2           66           39           92          110           33   \n",
      "3           70           52          107           94           63   \n",
      "4           39           35          116           65           81   \n",
      "\n",
      "   pick_red_1  pick_red_2  pick_red_3  pick_red_4  pick_red_5  \n",
      "0         115          46          76          17           9  \n",
      "1          70          74          36          26          25  \n",
      "2          59          74          36          56          75  \n",
      "3         105          39          92          65          25  \n",
      "4          70          74          36          50          45  \n",
      "\n",
      "Variabel dependen:\n",
      "   win_team\n",
      "0         0\n",
      "1         0\n",
      "2         0\n",
      "3         0\n",
      "4         0\n"
     ]
    }
   ],
   "source": [
    "#Variabel independen untuk memprediksi atau menjelaskan variabel lain.\n",
    "#Variabel dependen adalah variabel yang ingin diprediksi atau dijelaskan oleh variabel independen.\n",
    "'''\n",
    "###\n",
    "drop data target Y : kolom win dan mvp\n",
    "drop data target X : kolom selain win dan mvp\n",
    "'''\n",
    "\n",
    "df_temp = df_data.copy()\n",
    "\n",
    "X = df_temp.drop(['win_team'], axis=1)\n",
    "Y = df_temp[['win_team']]\n",
    "\n",
    "# Menampilkan hasil pemisahan variabel\n",
    "print('Variabel independen:')\n",
    "print(X.head())\n",
    "\n",
    "print('\\nVariabel dependen:')\n",
    "print(Y.head())"
   ]
  },
  {
   "cell_type": "markdown",
   "id": "dce304bb",
   "metadata": {},
   "source": [
    "## Splitting Data"
   ]
  },
  {
   "cell_type": "code",
   "execution_count": 19,
   "id": "76bfb387",
   "metadata": {},
   "outputs": [],
   "source": [
    "from sklearn.model_selection import train_test_split\n",
    "X_train, X_test, Y_train, Y_test = train_test_split(X, Y, test_size=0.2, random_state=42, stratify=Y)"
   ]
  },
  {
   "cell_type": "code",
   "execution_count": 20,
   "id": "0a81fa08",
   "metadata": {},
   "outputs": [
    {
     "data": {
      "text/html": [
       "<div>\n",
       "<style scoped>\n",
       "    .dataframe tbody tr th:only-of-type {\n",
       "        vertical-align: middle;\n",
       "    }\n",
       "\n",
       "    .dataframe tbody tr th {\n",
       "        vertical-align: top;\n",
       "    }\n",
       "\n",
       "    .dataframe thead th {\n",
       "        text-align: right;\n",
       "    }\n",
       "</style>\n",
       "<table border=\"1\" class=\"dataframe\">\n",
       "  <thead>\n",
       "    <tr style=\"text-align: right;\">\n",
       "      <th></th>\n",
       "      <th>pick_blue_1</th>\n",
       "      <th>pick_blue_2</th>\n",
       "      <th>pick_blue_3</th>\n",
       "      <th>pick_blue_4</th>\n",
       "      <th>pick_blue_5</th>\n",
       "      <th>pick_red_1</th>\n",
       "      <th>pick_red_2</th>\n",
       "      <th>pick_red_3</th>\n",
       "      <th>pick_red_4</th>\n",
       "      <th>pick_red_5</th>\n",
       "      <th>win_team</th>\n",
       "    </tr>\n",
       "  </thead>\n",
       "  <tbody>\n",
       "    <tr>\n",
       "      <th>0</th>\n",
       "      <td>80</td>\n",
       "      <td>69</td>\n",
       "      <td>116</td>\n",
       "      <td>20</td>\n",
       "      <td>36</td>\n",
       "      <td>8</td>\n",
       "      <td>1</td>\n",
       "      <td>107</td>\n",
       "      <td>17</td>\n",
       "      <td>9</td>\n",
       "      <td>1</td>\n",
       "    </tr>\n",
       "    <tr>\n",
       "      <th>1</th>\n",
       "      <td>70</td>\n",
       "      <td>60</td>\n",
       "      <td>61</td>\n",
       "      <td>82</td>\n",
       "      <td>63</td>\n",
       "      <td>42</td>\n",
       "      <td>69</td>\n",
       "      <td>107</td>\n",
       "      <td>17</td>\n",
       "      <td>25</td>\n",
       "      <td>1</td>\n",
       "    </tr>\n",
       "    <tr>\n",
       "      <th>2</th>\n",
       "      <td>8</td>\n",
       "      <td>79</td>\n",
       "      <td>36</td>\n",
       "      <td>82</td>\n",
       "      <td>45</td>\n",
       "      <td>103</td>\n",
       "      <td>69</td>\n",
       "      <td>107</td>\n",
       "      <td>26</td>\n",
       "      <td>63</td>\n",
       "      <td>1</td>\n",
       "    </tr>\n",
       "    <tr>\n",
       "      <th>3</th>\n",
       "      <td>39</td>\n",
       "      <td>74</td>\n",
       "      <td>92</td>\n",
       "      <td>17</td>\n",
       "      <td>97</td>\n",
       "      <td>91</td>\n",
       "      <td>64</td>\n",
       "      <td>116</td>\n",
       "      <td>26</td>\n",
       "      <td>63</td>\n",
       "      <td>1</td>\n",
       "    </tr>\n",
       "    <tr>\n",
       "      <th>4</th>\n",
       "      <td>19</td>\n",
       "      <td>1</td>\n",
       "      <td>107</td>\n",
       "      <td>82</td>\n",
       "      <td>75</td>\n",
       "      <td>115</td>\n",
       "      <td>39</td>\n",
       "      <td>111</td>\n",
       "      <td>65</td>\n",
       "      <td>97</td>\n",
       "      <td>0</td>\n",
       "    </tr>\n",
       "    <tr>\n",
       "      <th>...</th>\n",
       "      <td>...</td>\n",
       "      <td>...</td>\n",
       "      <td>...</td>\n",
       "      <td>...</td>\n",
       "      <td>...</td>\n",
       "      <td>...</td>\n",
       "      <td>...</td>\n",
       "      <td>...</td>\n",
       "      <td>...</td>\n",
       "      <td>...</td>\n",
       "      <td>...</td>\n",
       "    </tr>\n",
       "    <tr>\n",
       "      <th>335</th>\n",
       "      <td>45</td>\n",
       "      <td>1</td>\n",
       "      <td>92</td>\n",
       "      <td>65</td>\n",
       "      <td>25</td>\n",
       "      <td>115</td>\n",
       "      <td>44</td>\n",
       "      <td>116</td>\n",
       "      <td>50</td>\n",
       "      <td>68</td>\n",
       "      <td>1</td>\n",
       "    </tr>\n",
       "    <tr>\n",
       "      <th>336</th>\n",
       "      <td>8</td>\n",
       "      <td>35</td>\n",
       "      <td>36</td>\n",
       "      <td>107</td>\n",
       "      <td>45</td>\n",
       "      <td>31</td>\n",
       "      <td>52</td>\n",
       "      <td>61</td>\n",
       "      <td>110</td>\n",
       "      <td>54</td>\n",
       "      <td>0</td>\n",
       "    </tr>\n",
       "    <tr>\n",
       "      <th>337</th>\n",
       "      <td>19</td>\n",
       "      <td>39</td>\n",
       "      <td>107</td>\n",
       "      <td>17</td>\n",
       "      <td>33</td>\n",
       "      <td>31</td>\n",
       "      <td>76</td>\n",
       "      <td>36</td>\n",
       "      <td>26</td>\n",
       "      <td>25</td>\n",
       "      <td>1</td>\n",
       "    </tr>\n",
       "    <tr>\n",
       "      <th>338</th>\n",
       "      <td>30</td>\n",
       "      <td>74</td>\n",
       "      <td>61</td>\n",
       "      <td>110</td>\n",
       "      <td>54</td>\n",
       "      <td>45</td>\n",
       "      <td>1</td>\n",
       "      <td>116</td>\n",
       "      <td>56</td>\n",
       "      <td>75</td>\n",
       "      <td>1</td>\n",
       "    </tr>\n",
       "    <tr>\n",
       "      <th>339</th>\n",
       "      <td>102</td>\n",
       "      <td>39</td>\n",
       "      <td>116</td>\n",
       "      <td>17</td>\n",
       "      <td>38</td>\n",
       "      <td>70</td>\n",
       "      <td>45</td>\n",
       "      <td>78</td>\n",
       "      <td>26</td>\n",
       "      <td>9</td>\n",
       "      <td>1</td>\n",
       "    </tr>\n",
       "  </tbody>\n",
       "</table>\n",
       "<p>340 rows × 11 columns</p>\n",
       "</div>"
      ],
      "text/plain": [
       "     pick_blue_1  pick_blue_2  pick_blue_3  pick_blue_4  pick_blue_5  \\\n",
       "0             80           69          116           20           36   \n",
       "1             70           60           61           82           63   \n",
       "2              8           79           36           82           45   \n",
       "3             39           74           92           17           97   \n",
       "4             19            1          107           82           75   \n",
       "..           ...          ...          ...          ...          ...   \n",
       "335           45            1           92           65           25   \n",
       "336            8           35           36          107           45   \n",
       "337           19           39          107           17           33   \n",
       "338           30           74           61          110           54   \n",
       "339          102           39          116           17           38   \n",
       "\n",
       "     pick_red_1  pick_red_2  pick_red_3  pick_red_4  pick_red_5  win_team  \n",
       "0             8           1         107          17           9         1  \n",
       "1            42          69         107          17          25         1  \n",
       "2           103          69         107          26          63         1  \n",
       "3            91          64         116          26          63         1  \n",
       "4           115          39         111          65          97         0  \n",
       "..          ...         ...         ...         ...         ...       ...  \n",
       "335         115          44         116          50          68         1  \n",
       "336          31          52          61         110          54         0  \n",
       "337          31          76          36          26          25         1  \n",
       "338          45           1         116          56          75         1  \n",
       "339          70          45          78          26           9         1  \n",
       "\n",
       "[340 rows x 11 columns]"
      ]
     },
     "execution_count": 20,
     "metadata": {},
     "output_type": "execute_result"
    }
   ],
   "source": [
    "data_train = pd.concat([X_train,Y_train],axis=1)\n",
    "data_test = pd.concat([X_test,Y_test],axis=1)\n",
    "data_train.to_csv('train.csv',index=False)\n",
    "data_test.to_csv('test.csv',index=False)\n",
    "data_train = pd.read_csv('train.csv')\n",
    "data_test = pd.read_csv('test.csv')\n",
    "# X_train = data_train.drop(-1)\n",
    "# Y_train = data_train.loc(0:-1)\n",
    "data_train"
   ]
  },
  {
   "cell_type": "code",
   "execution_count": 21,
   "id": "d3270389",
   "metadata": {},
   "outputs": [
    {
     "data": {
      "text/html": [
       "<div>\n",
       "<style scoped>\n",
       "    .dataframe tbody tr th:only-of-type {\n",
       "        vertical-align: middle;\n",
       "    }\n",
       "\n",
       "    .dataframe tbody tr th {\n",
       "        vertical-align: top;\n",
       "    }\n",
       "\n",
       "    .dataframe thead th {\n",
       "        text-align: right;\n",
       "    }\n",
       "</style>\n",
       "<table border=\"1\" class=\"dataframe\">\n",
       "  <thead>\n",
       "    <tr style=\"text-align: right;\">\n",
       "      <th></th>\n",
       "      <th>pick_blue_1</th>\n",
       "      <th>pick_blue_2</th>\n",
       "      <th>pick_blue_3</th>\n",
       "      <th>pick_blue_4</th>\n",
       "      <th>pick_blue_5</th>\n",
       "      <th>pick_red_1</th>\n",
       "      <th>pick_red_2</th>\n",
       "      <th>pick_red_3</th>\n",
       "      <th>pick_red_4</th>\n",
       "      <th>pick_red_5</th>\n",
       "      <th>win_team</th>\n",
       "    </tr>\n",
       "  </thead>\n",
       "  <tbody>\n",
       "    <tr>\n",
       "      <th>0</th>\n",
       "      <td>80</td>\n",
       "      <td>69</td>\n",
       "      <td>116</td>\n",
       "      <td>20</td>\n",
       "      <td>36</td>\n",
       "      <td>8</td>\n",
       "      <td>1</td>\n",
       "      <td>107</td>\n",
       "      <td>17</td>\n",
       "      <td>9</td>\n",
       "      <td>1</td>\n",
       "    </tr>\n",
       "    <tr>\n",
       "      <th>1</th>\n",
       "      <td>70</td>\n",
       "      <td>60</td>\n",
       "      <td>61</td>\n",
       "      <td>82</td>\n",
       "      <td>63</td>\n",
       "      <td>42</td>\n",
       "      <td>69</td>\n",
       "      <td>107</td>\n",
       "      <td>17</td>\n",
       "      <td>25</td>\n",
       "      <td>1</td>\n",
       "    </tr>\n",
       "    <tr>\n",
       "      <th>2</th>\n",
       "      <td>8</td>\n",
       "      <td>79</td>\n",
       "      <td>36</td>\n",
       "      <td>82</td>\n",
       "      <td>45</td>\n",
       "      <td>103</td>\n",
       "      <td>69</td>\n",
       "      <td>107</td>\n",
       "      <td>26</td>\n",
       "      <td>63</td>\n",
       "      <td>1</td>\n",
       "    </tr>\n",
       "    <tr>\n",
       "      <th>3</th>\n",
       "      <td>39</td>\n",
       "      <td>74</td>\n",
       "      <td>92</td>\n",
       "      <td>17</td>\n",
       "      <td>97</td>\n",
       "      <td>91</td>\n",
       "      <td>64</td>\n",
       "      <td>116</td>\n",
       "      <td>26</td>\n",
       "      <td>63</td>\n",
       "      <td>1</td>\n",
       "    </tr>\n",
       "    <tr>\n",
       "      <th>4</th>\n",
       "      <td>19</td>\n",
       "      <td>1</td>\n",
       "      <td>107</td>\n",
       "      <td>82</td>\n",
       "      <td>75</td>\n",
       "      <td>115</td>\n",
       "      <td>39</td>\n",
       "      <td>111</td>\n",
       "      <td>65</td>\n",
       "      <td>97</td>\n",
       "      <td>0</td>\n",
       "    </tr>\n",
       "    <tr>\n",
       "      <th>...</th>\n",
       "      <td>...</td>\n",
       "      <td>...</td>\n",
       "      <td>...</td>\n",
       "      <td>...</td>\n",
       "      <td>...</td>\n",
       "      <td>...</td>\n",
       "      <td>...</td>\n",
       "      <td>...</td>\n",
       "      <td>...</td>\n",
       "      <td>...</td>\n",
       "      <td>...</td>\n",
       "    </tr>\n",
       "    <tr>\n",
       "      <th>335</th>\n",
       "      <td>45</td>\n",
       "      <td>1</td>\n",
       "      <td>92</td>\n",
       "      <td>65</td>\n",
       "      <td>25</td>\n",
       "      <td>115</td>\n",
       "      <td>44</td>\n",
       "      <td>116</td>\n",
       "      <td>50</td>\n",
       "      <td>68</td>\n",
       "      <td>1</td>\n",
       "    </tr>\n",
       "    <tr>\n",
       "      <th>336</th>\n",
       "      <td>8</td>\n",
       "      <td>35</td>\n",
       "      <td>36</td>\n",
       "      <td>107</td>\n",
       "      <td>45</td>\n",
       "      <td>31</td>\n",
       "      <td>52</td>\n",
       "      <td>61</td>\n",
       "      <td>110</td>\n",
       "      <td>54</td>\n",
       "      <td>0</td>\n",
       "    </tr>\n",
       "    <tr>\n",
       "      <th>337</th>\n",
       "      <td>19</td>\n",
       "      <td>39</td>\n",
       "      <td>107</td>\n",
       "      <td>17</td>\n",
       "      <td>33</td>\n",
       "      <td>31</td>\n",
       "      <td>76</td>\n",
       "      <td>36</td>\n",
       "      <td>26</td>\n",
       "      <td>25</td>\n",
       "      <td>1</td>\n",
       "    </tr>\n",
       "    <tr>\n",
       "      <th>338</th>\n",
       "      <td>30</td>\n",
       "      <td>74</td>\n",
       "      <td>61</td>\n",
       "      <td>110</td>\n",
       "      <td>54</td>\n",
       "      <td>45</td>\n",
       "      <td>1</td>\n",
       "      <td>116</td>\n",
       "      <td>56</td>\n",
       "      <td>75</td>\n",
       "      <td>1</td>\n",
       "    </tr>\n",
       "    <tr>\n",
       "      <th>339</th>\n",
       "      <td>102</td>\n",
       "      <td>39</td>\n",
       "      <td>116</td>\n",
       "      <td>17</td>\n",
       "      <td>38</td>\n",
       "      <td>70</td>\n",
       "      <td>45</td>\n",
       "      <td>78</td>\n",
       "      <td>26</td>\n",
       "      <td>9</td>\n",
       "      <td>1</td>\n",
       "    </tr>\n",
       "  </tbody>\n",
       "</table>\n",
       "<p>340 rows × 11 columns</p>\n",
       "</div>"
      ],
      "text/plain": [
       "     pick_blue_1  pick_blue_2  pick_blue_3  pick_blue_4  pick_blue_5  \\\n",
       "0             80           69          116           20           36   \n",
       "1             70           60           61           82           63   \n",
       "2              8           79           36           82           45   \n",
       "3             39           74           92           17           97   \n",
       "4             19            1          107           82           75   \n",
       "..           ...          ...          ...          ...          ...   \n",
       "335           45            1           92           65           25   \n",
       "336            8           35           36          107           45   \n",
       "337           19           39          107           17           33   \n",
       "338           30           74           61          110           54   \n",
       "339          102           39          116           17           38   \n",
       "\n",
       "     pick_red_1  pick_red_2  pick_red_3  pick_red_4  pick_red_5  win_team  \n",
       "0             8           1         107          17           9         1  \n",
       "1            42          69         107          17          25         1  \n",
       "2           103          69         107          26          63         1  \n",
       "3            91          64         116          26          63         1  \n",
       "4           115          39         111          65          97         0  \n",
       "..          ...         ...         ...         ...         ...       ...  \n",
       "335         115          44         116          50          68         1  \n",
       "336          31          52          61         110          54         0  \n",
       "337          31          76          36          26          25         1  \n",
       "338          45           1         116          56          75         1  \n",
       "339          70          45          78          26           9         1  \n",
       "\n",
       "[340 rows x 11 columns]"
      ]
     },
     "execution_count": 21,
     "metadata": {},
     "output_type": "execute_result"
    }
   ],
   "source": [
    "# data_train = pd.concat([X_train,Y_train],axis=1)\n",
    "# data_test = pd.concat([X_test,Y_test],axis=1)\n",
    "data_train.to_csv('train.csv',index=False)\n",
    "data_test.to_csv('test.csv',index=False)\n",
    "data_train = pd.read_csv('train.csv')\n",
    "data_test = pd.read_csv('test.csv')\n",
    "# X_train = data_train.drop(-1)\n",
    "# Y_train = data_train.loc(0:-1)\n",
    "data_train"
   ]
  },
  {
   "cell_type": "code",
   "execution_count": 22,
   "id": "1bee49e9",
   "metadata": {},
   "outputs": [
    {
     "name": "stdout",
     "output_type": "stream",
     "text": [
      "WIN train win_team\n",
      "0    170\n",
      "1    170\n",
      "Name: win_team, dtype: int64\n"
     ]
    },
    {
     "data": {
      "text/plain": [
       "<AxesSubplot:xlabel='win_team', ylabel='count'>"
      ]
     },
     "metadata": {},
     "output_type": "display_data"
    },
    {
     "data": {
      "image/png": "[encoded data removed]",
      "text/plain": [
       "<Figure size 432x288 with 1 Axes>"
      ]
     },
     "metadata": {
      "needs_background": "light"
     },
     "output_type": "display_data"
    }
   ],
   "source": [
    "print(\"WIN train\", Y_train.groupby(['win_team'])[\"win_team\"].count())\n",
    "display(sns.countplot(x=Y_train[\"win_team\"]))"
   ]
  },
  {
   "cell_type": "code",
   "execution_count": 23,
   "id": "ee2d600d",
   "metadata": {},
   "outputs": [
    {
     "name": "stdout",
     "output_type": "stream",
     "text": [
      "\n",
      "WIN test win_team\n",
      "0    43\n",
      "1    43\n",
      "Name: win_team, dtype: int64\n"
     ]
    },
    {
     "data": {
      "text/plain": [
       "<AxesSubplot:xlabel='win_team', ylabel='count'>"
      ]
     },
     "metadata": {},
     "output_type": "display_data"
    },
    {
     "data": {
      "image/png": "[encoded data removed]",
      "text/plain": [
       "<Figure size 432x288 with 1 Axes>"
      ]
     },
     "metadata": {
      "needs_background": "light"
     },
     "output_type": "display_data"
    }
   ],
   "source": [
    "print(\"\\nWIN test\",Y_test.groupby(['win_team'])[\"win_team\"].count())\n",
    "display(sns.countplot(x=Y_test[\"win_team\"]))"
   ]
  },
  {
   "cell_type": "code",
   "execution_count": 24,
   "id": "0556af4b",
   "metadata": {
    "scrolled": true
   },
   "outputs": [
    {
     "name": "stdout",
     "output_type": "stream",
     "text": [
      "<class 'pandas.core.frame.DataFrame'>\n",
      "RangeIndex: 442 entries, 0 to 441\n",
      "Data columns (total 28 columns):\n",
      " #   Column         Non-Null Count  Dtype         \n",
      "---  ------         --------------  -----         \n",
      " 0   date           442 non-null    datetime64[ns]\n",
      " 1   game           442 non-null    int64         \n",
      " 2   blue           442 non-null    object        \n",
      " 3   red            442 non-null    object        \n",
      " 4   time(minutes)  442 non-null    float64       \n",
      " 5   win            442 non-null    object        \n",
      " 6   win_team       442 non-null    object        \n",
      " 7   mvp            442 non-null    object        \n",
      " 8   pick_blue_1    442 non-null    object        \n",
      " 9   pick_blue_2    442 non-null    object        \n",
      " 10  pick_blue_3    442 non-null    object        \n",
      " 11  pick_blue_4    442 non-null    object        \n",
      " 12  pick_blue_5    442 non-null    object        \n",
      " 13  ban_blue_1     442 non-null    object        \n",
      " 14  ban_blue_2     442 non-null    object        \n",
      " 15  ban_blue_3     442 non-null    object        \n",
      " 16  ban_blue_4     442 non-null    object        \n",
      " 17  ban_blue_5     442 non-null    object        \n",
      " 18  pick_red_1     442 non-null    object        \n",
      " 19  pick_red_2     442 non-null    object        \n",
      " 20  pick_red_3     442 non-null    object        \n",
      " 21  pick_red_4     442 non-null    object        \n",
      " 22  pick_red_5     442 non-null    object        \n",
      " 23  ban_red_1      442 non-null    object        \n",
      " 24  ban_red_2      442 non-null    object        \n",
      " 25  ban_red_3      442 non-null    object        \n",
      " 26  ban_red_4      442 non-null    object        \n",
      " 27  ban_red_5      442 non-null    object        \n",
      "dtypes: datetime64[ns](1), float64(1), int64(1), object(25)\n",
      "memory usage: 96.8+ KB\n"
     ]
    }
   ],
   "source": [
    "df.info()"
   ]
  },
  {
   "cell_type": "markdown",
   "id": "c80085eb",
   "metadata": {},
   "source": [
    "## Scalling Data"
   ]
  },
  {
   "cell_type": "code",
   "execution_count": 25,
   "id": "351e4afb",
   "metadata": {},
   "outputs": [
    {
     "data": {
      "text/plain": [
       "array([[0.16521739, 0.94690265, 0.52586207, ..., 0.65517241, 0.1440678 ,\n",
       "        0.07758621],\n",
       "       [0.36521739, 0.34513274, 1.        , ..., 0.31034483, 0.22033898,\n",
       "        0.21551724],\n",
       "       [0.57391304, 0.34513274, 0.79310345, ..., 0.31034483, 0.47457627,\n",
       "        0.64655172],\n",
       "       ...,\n",
       "       [0.06956522, 0.39823009, 0.92241379, ..., 0.79310345, 0.1440678 ,\n",
       "        0.54310345],\n",
       "       [0.06956522, 0.61061947, 0.92241379, ..., 0.79310345, 0.42372881,\n",
       "        0.21551724],\n",
       "       [0.91304348, 0.46017699, 1.        , ..., 0.52586207, 0.22033898,\n",
       "        0.54310345]])"
      ]
     },
     "metadata": {},
     "output_type": "display_data"
    },
    {
     "name": "stdout",
     "output_type": "stream",
     "text": [
      "     pick_blue_1  pick_blue_2  pick_blue_3  pick_blue_4  pick_blue_5  \\\n",
      "0       0.165217     0.946903     0.525862     0.590909     0.543103   \n",
      "1       0.365217     0.345133     1.000000     0.590909     0.646552   \n",
      "2       0.573913     0.345133     0.793103     1.000000     0.284483   \n",
      "3       0.608696     0.460177     0.922414     0.854545     0.543103   \n",
      "4       0.339130     0.309735     1.000000     0.590909     0.698276   \n",
      "..           ...          ...          ...          ...          ...   \n",
      "421     0.608696     0.610619     0.793103     0.154545     0.646552   \n",
      "422     0.365217     0.610619     0.525862     0.745455     0.465517   \n",
      "423     0.069565     0.398230     0.922414     0.745455     0.525862   \n",
      "424     0.069565     0.610619     0.922414     0.154545     0.387931   \n",
      "425     0.913043     0.460177     1.000000     0.154545     0.586207   \n",
      "\n",
      "     pick_red_1  pick_red_2  pick_red_3  pick_red_4  pick_red_5  \n",
      "0      1.000000    0.414414    0.655172    0.144068    0.077586  \n",
      "1      0.608696    0.666667    0.310345    0.220339    0.215517  \n",
      "2      0.513043    0.666667    0.310345    0.474576    0.646552  \n",
      "3      0.913043    0.351351    0.793103    0.550847    0.215517  \n",
      "4      0.608696    0.666667    0.310345    0.423729    0.387931  \n",
      "..          ...         ...         ...         ...         ...  \n",
      "421    0.365217    0.315315    0.922414    0.932203    0.543103  \n",
      "422    0.608696    0.711712    0.793103    0.728814    0.250000  \n",
      "423    0.608696    0.711712    0.793103    0.144068    0.543103  \n",
      "424    0.339130    0.468468    0.793103    0.423729    0.215517  \n",
      "425    0.791304    0.144144    0.525862    0.220339    0.543103  \n",
      "\n",
      "[426 rows x 10 columns]\n"
     ]
    }
   ],
   "source": [
    "from sklearn.preprocessing import MinMaxScaler\n",
    "from sklearn import preprocessing\n",
    "from sklearn.preprocessing import MaxAbsScaler\n",
    "\n",
    "# melakukan scaling pada variabel df_data\n",
    "scale = MaxAbsScaler()\n",
    "\n",
    "# df_data[['win','mvp']]= scale.fit_transform(df_data[['win','mvp']])\n",
    "df_data = scale.fit_transform(X)\n",
    "\n",
    "# hasil scaling disimpan dalam objek dataframe\n",
    "# df_data = pd.DataFrame(df_data, columns=df_data.columns)\n",
    "display(df_data)\n",
    "\n",
    "# hasil scaling disimpan dalam objek dataframe\n",
    "df_data_scale = pd.DataFrame(df_data, columns=X.columns)\n",
    "print(df_data_scale)"
   ]
  },
  {
   "cell_type": "code",
   "execution_count": 26,
   "id": "c581d82b",
   "metadata": {},
   "outputs": [
    {
     "name": "stdout",
     "output_type": "stream",
     "text": [
      "Jumlah data pada X_train: 340\n",
      "Jumlah data pada X_test: 86\n",
      "Jumlah data pada Y_train: 340\n",
      "Jumlah data pada Y_test: 86\n"
     ]
    }
   ],
   "source": [
    "print(\"Jumlah data pada X_train:\", len(X_train))\n",
    "print(\"Jumlah data pada X_test:\", len(X_test))\n",
    "#--------------\n",
    "print(\"Jumlah data pada Y_train:\", len(Y_train))\n",
    "print(\"Jumlah data pada Y_test:\", len(Y_test))"
   ]
  },
  {
   "cell_type": "markdown",
   "id": "0b5dfb7f",
   "metadata": {},
   "source": [
    "## Hyperparameter Tunning"
   ]
  },
  {
   "cell_type": "code",
   "execution_count": 27,
   "id": "88396e70",
   "metadata": {},
   "outputs": [
    {
     "name": "stdout",
     "output_type": "stream",
     "text": [
      "Requirement already satisfied: setuptools in c:\\users\\agoy\\anaconda3\\lib\\site-packages (69.0.2)"
     ]
    },
    {
     "name": "stderr",
     "output_type": "stream",
     "text": [
      "DEPRECATION: pyodbc 4.0.0-unsupported has a non-standard version number. pip 24.0 will enforce this behaviour change. A possible replacement is to upgrade to a newer version of pyodbc or contact the author to suggest that they release a version with a conforming version number. Discussion can be found at https://github.com/pypa/pip/issues/12063\n",
      "\n",
      "[notice] A new release of pip is available: 23.3.1 -> 23.3.2\n",
      "[notice] To update, run: python.exe -m pip install --upgrade pip\n"
     ]
    },
    {
     "name": "stdout",
     "output_type": "stream",
     "text": [
      "\n",
      "Requirement already satisfied: pip in c:\\users\\agoy\\anaconda3\\lib\\site-packages (23.3.1)\n",
      "Collecting pip\n",
      "  Using cached pip-23.3.2-py3-none-any.whl.metadata (3.5 kB)\n",
      "Using cached pip-23.3.2-py3-none-any.whl (2.1 MB)\n"
     ]
    },
    {
     "name": "stderr",
     "output_type": "stream",
     "text": [
      "ERROR: To modify pip, please run the following command:\n",
      "C:\\Users\\AGOY\\anaconda3\\python.exe -m pip install --upgrade pip\n",
      "\n",
      "[notice] A new release of pip is available: 23.3.1 -> 23.3.2\n",
      "[notice] To update, run: python.exe -m pip install --upgrade pip\n"
     ]
    }
   ],
   "source": [
    "# Parfit\n",
    "!pip3 install --upgrade setuptools\n",
    "!pip3 install --upgrade pip"
   ]
  },
  {
   "cell_type": "code",
   "execution_count": 28,
   "id": "9fa48067",
   "metadata": {},
   "outputs": [
    {
     "name": "stdout",
     "output_type": "stream",
     "text": [
      "Requirement already satisfied: scikit-learn in c:\\users\\agoy\\anaconda3\\lib\\site-packages (0.24.2)\n",
      "Requirement already satisfied: numpy>=1.13.3 in c:\\users\\agoy\\anaconda3\\lib\\site-packages (from scikit-learn) (1.20.3)\n",
      "Requirement already satisfied: scipy>=0.19.1 in c:\\users\\agoy\\anaconda3\\lib\\site-packages (from scikit-learn) (1.7.1)\n",
      "Requirement already satisfied: joblib>=0.11 in c:\\users\\agoy\\anaconda3\\lib\\site-packages (from scikit-learn) (1.1.0)\n",
      "Requirement already satisfied: threadpoolctl>=2.0.0 in c:\\users\\agoy\\anaconda3\\lib\\site-packages (from scikit-learn) (2.2.0)\n",
      "Note: you may need to restart the kernel to use updated packages.\n"
     ]
    },
    {
     "name": "stderr",
     "output_type": "stream",
     "text": [
      "DEPRECATION: pyodbc 4.0.0-unsupported has a non-standard version number. pip 24.0 will enforce this behaviour change. A possible replacement is to upgrade to a newer version of pyodbc or contact the author to suggest that they release a version with a conforming version number. Discussion can be found at https://github.com/pypa/pip/issues/12063\n",
      "\n",
      "[notice] A new release of pip is available: 23.3.1 -> 23.3.2\n",
      "[notice] To update, run: python.exe -m pip install --upgrade pip\n"
     ]
    }
   ],
   "source": [
    "pip install scikit-learn"
   ]
  },
  {
   "cell_type": "code",
   "execution_count": 29,
   "id": "fb3a22ec",
   "metadata": {},
   "outputs": [
    {
     "name": "stdout",
     "output_type": "stream",
     "text": [
      "Requirement already satisfied: parfit in c:\\users\\agoy\\anaconda3\\lib\\site-packages (0.220)\n",
      "Requirement already satisfied: joblib in c:\\users\\agoy\\anaconda3\\lib\\site-packages (from parfit) (1.1.0)\n",
      "Requirement already satisfied: matplotlib in c:\\users\\agoy\\anaconda3\\lib\\site-packages (from parfit) (3.4.3)\n",
      "Requirement already satisfied: sklearn in c:\\users\\agoy\\anaconda3\\lib\\site-packages (from parfit) (0.0.post10)\n",
      "Requirement already satisfied: numpy in c:\\users\\agoy\\anaconda3\\lib\\site-packages (from parfit) (1.20.3)\n",
      "Requirement already satisfied: cycler>=0.10 in c:\\users\\agoy\\anaconda3\\lib\\site-packages (from matplotlib->parfit) (0.10.0)\n",
      "Requirement already satisfied: kiwisolver>=1.0.1 in c:\\users\\agoy\\anaconda3\\lib\\site-packages (from matplotlib->parfit) (1.3.1)\n",
      "Requirement already satisfied: pillow>=6.2.0 in c:\\users\\agoy\\anaconda3\\lib\\site-packages (from matplotlib->parfit) (8.4.0)\n",
      "Requirement already satisfied: pyparsing>=2.2.1 in c:\\users\\agoy\\anaconda3\\lib\\site-packages (from matplotlib->parfit) (3.0.4)\n",
      "Requirement already satisfied: python-dateutil>=2.7 in c:\\users\\agoy\\anaconda3\\lib\\site-packages (from matplotlib->parfit) (2.8.2)\n",
      "Requirement already satisfied: six in c:\\users\\agoy\\anaconda3\\lib\\site-packages (from cycler>=0.10->matplotlib->parfit) (1.16.0)\n",
      "Note: you may need to restart the kernel to use updated packages.\n"
     ]
    },
    {
     "name": "stderr",
     "output_type": "stream",
     "text": [
      "DEPRECATION: pyodbc 4.0.0-unsupported has a non-standard version number. pip 24.0 will enforce this behaviour change. A possible replacement is to upgrade to a newer version of pyodbc or contact the author to suggest that they release a version with a conforming version number. Discussion can be found at https://github.com/pypa/pip/issues/12063\n",
      "\n",
      "[notice] A new release of pip is available: 23.3.1 -> 23.3.2\n",
      "[notice] To update, run: python.exe -m pip install --upgrade pip\n"
     ]
    }
   ],
   "source": [
    "pip install parfit"
   ]
  },
  {
   "cell_type": "code",
   "execution_count": 30,
   "id": "36e0ceca",
   "metadata": {},
   "outputs": [],
   "source": [
    "# from parfit import bestFit # Necessary if you wish to use bestFit\n",
    "\n",
    "# Necessary if you wish to run each step sequentially\n",
    "from parfit.fit import *\n",
    "from parfit.score import *\n",
    "from parfit.plot import *\n",
    "from parfit.crossval import *"
   ]
  },
  {
   "cell_type": "code",
   "execution_count": 31,
   "id": "6b22ead6",
   "metadata": {},
   "outputs": [],
   "source": [
    "import parfit.parfit as pf"
   ]
  },
  {
   "cell_type": "code",
   "execution_count": 32,
   "id": "fd4848df",
   "metadata": {},
   "outputs": [],
   "source": [
    "from sklearn.model_selection import ParameterGrid\n",
    "from sklearn.metrics import accuracy_score, f1_score, precision_score, recall_score, classification_report, confusion_matrix\n",
    "from sklearn.metrics import roc_auc_score\n",
    "from sklearn.metrics import roc_curve\n",
    "from sklearn.naive_bayes import GaussianNB\n",
    "from sklearn.tree import DecisionTreeClassifier\n",
    "import matplotlib.pyplot as plt\n",
    "from sklearn.model_selection import learning_curve"
   ]
  },
  {
   "cell_type": "markdown",
   "id": "44087ef7",
   "metadata": {},
   "source": [
    "### Decision Tree"
   ]
  },
  {
   "cell_type": "code",
   "execution_count": 33,
   "id": "ccded148",
   "metadata": {},
   "outputs": [
    {
     "name": "stdout",
     "output_type": "stream",
     "text": [
      "-------------FITTING MODELS-------------\n"
     ]
    },
    {
     "name": "stderr",
     "output_type": "stream",
     "text": [
      "[Parallel(n_jobs=-1)]: Using backend LokyBackend with 4 concurrent workers.\n",
      "[Parallel(n_jobs=-1)]: Done   5 tasks      | elapsed:    8.9s\n",
      "[Parallel(n_jobs=-1)]: Done  10 tasks      | elapsed:    9.0s\n",
      "[Parallel(n_jobs=-1)]: Done  17 tasks      | elapsed:    9.0s\n",
      "[Parallel(n_jobs=-1)]: Done  24 tasks      | elapsed:    9.0s\n",
      "[Parallel(n_jobs=-1)]: Batch computation too fast (0.1976s.) Setting batch_size=2.\n",
      "[Parallel(n_jobs=-1)]: Batch computation too fast (0.0312s.) Setting batch_size=4.\n",
      "[Parallel(n_jobs=-1)]: Done  35 tasks      | elapsed:    9.1s\n",
      "[Parallel(n_jobs=-1)]: Batch computation too fast (0.0526s.) Setting batch_size=8.\n",
      "[Parallel(n_jobs=-1)]: Done  59 tasks      | elapsed:    9.2s\n",
      "[Parallel(n_jobs=-1)]: Batch computation too fast (0.1000s.) Setting batch_size=16.\n",
      "[Parallel(n_jobs=-1)]: Done 120 tasks      | elapsed:    9.4s\n",
      "[Parallel(n_jobs=-1)]: Done 272 tasks      | elapsed:    9.7s\n",
      "[Parallel(n_jobs=-1)]: Done 480 tasks      | elapsed:   10.2s\n",
      "[Parallel(n_jobs=-1)]: Done 688 tasks      | elapsed:   10.6s\n",
      "[Parallel(n_jobs=-1)]: Done 928 tasks      | elapsed:   11.1s\n",
      "[Parallel(n_jobs=-1)]: Done 1168 tasks      | elapsed:   11.6s\n",
      "[Parallel(n_jobs=-1)]: Done 1440 tasks      | elapsed:   12.2s\n",
      "[Parallel(n_jobs=-1)]: Done 1652 tasks      | elapsed:   12.7s\n",
      "[Parallel(n_jobs=-1)]: Done 1701 tasks      | elapsed:   12.8s\n",
      "[Parallel(n_jobs=-1)]: Done 1720 tasks      | elapsed:   12.8s\n",
      "[Parallel(n_jobs=-1)]: Done 1728 out of 1728 | elapsed:   12.9s finished\n"
     ]
    },
    {
     "name": "stdout",
     "output_type": "stream",
     "text": [
      "-------------SCORING MODELS-------------\n"
     ]
    },
    {
     "name": "stderr",
     "output_type": "stream",
     "text": [
      "[Parallel(n_jobs=-1)]: Using backend LokyBackend with 4 concurrent workers.\n",
      "[Parallel(n_jobs=-1)]: Done 280 tasks      | elapsed:    0.9s\n"
     ]
    },
    {
     "name": "stdout",
     "output_type": "stream",
     "text": [
      "Too many dimensions to plot.\n",
      "Best Paramter:  DecisionTreeClassifier(criterion='entropy', max_depth=10, max_features='auto',\n",
      "                       min_samples_split=3, random_state=42, splitter='random')\n",
      "Best Score:  0.6395348837209303\n"
     ]
    },
    {
     "name": "stderr",
     "output_type": "stream",
     "text": [
      "[Parallel(n_jobs=-1)]: Done 1728 out of 1728 | elapsed:    4.7s finished\n"
     ]
    }
   ],
   "source": [
    "paramGrid = ParameterGrid({\n",
    "    'criterion':[\"gini\",\"entropy\"],\n",
    "    'max_depth': [1,5,10,15,20,25],\n",
    "    'splitter':['random','best'],\n",
    "    'min_samples_split':[2,3,4,5],\n",
    "    'max_features': ['auto', 'sqrt', 'log2'],\n",
    "    'random_state':[1,2,10,20,30,42],\n",
    "})\n",
    "best_model, best_score, all_models, all_scores = pf.bestFit(DecisionTreeClassifier, paramGrid,\n",
    "                                                            X_train, Y_train, X_test, Y_test,\n",
    "                                                            metric=accuracy_score, scoreLabel='acc')\n",
    "print('Best Paramter: ',best_model)\n",
    "print('Best Score: ',best_score)"
   ]
  },
  {
   "cell_type": "markdown",
   "id": "4858b492",
   "metadata": {},
   "source": [
    "## Gaussian Naive Bayes"
   ]
  },
  {
   "cell_type": "code",
   "execution_count": 34,
   "id": "51a2d59c",
   "metadata": {},
   "outputs": [
    {
     "name": "stderr",
     "output_type": "stream",
     "text": [
      "[Parallel(n_jobs=-1)]: Using backend LokyBackend with 4 concurrent workers.\n",
      "[Parallel(n_jobs=-1)]: Batch computation too fast (0.0144s.) Setting batch_size=2.\n",
      "[Parallel(n_jobs=-1)]: Done   5 out of  10 | elapsed:    0.0s remaining:    0.0s\n",
      "[Parallel(n_jobs=-1)]: Done   7 out of  10 | elapsed:    0.0s remaining:    0.0s\n",
      "[Parallel(n_jobs=-1)]: Done  10 out of  10 | elapsed:    0.0s finished\n",
      "[Parallel(n_jobs=-1)]: Using backend LokyBackend with 4 concurrent workers.\n"
     ]
    },
    {
     "name": "stdout",
     "output_type": "stream",
     "text": [
      "Gaussian NaiveBayes\n",
      "-------------FITTING MODELS-------------\n",
      "-------------SCORING MODELS-------------\n"
     ]
    },
    {
     "name": "stderr",
     "output_type": "stream",
     "text": [
      "[Parallel(n_jobs=-1)]: Done  10 out of  10 | elapsed:    0.0s finished\n"
     ]
    },
    {
     "data": {
      "image/png": "[encoded data removed]",
      "text/plain": [
       "<Figure size 576x432 with 1 Axes>"
      ]
     },
     "metadata": {
      "needs_background": "light"
     },
     "output_type": "display_data"
    },
    {
     "name": "stdout",
     "output_type": "stream",
     "text": [
      "best model:  GaussianNB(var_smoothing=0.01)\n",
      "best_score:  0.4069767441860465\n"
     ]
    }
   ],
   "source": [
    "paramGrid = ParameterGrid({\n",
    "    'var_smoothing':[1e-1, 1e-2, 1e-3, 1e-4, 1e-5, 1e-6, 1e-7, 1e-8, 1e-9, 1e-10],\n",
    "})\n",
    "print('Gaussian NaiveBayes')\n",
    "best_model, best_score, all_models, all_scores = pf.bestFit(GaussianNB, paramGrid,\n",
    "                                                          X_train, Y_train, X_test, Y_test,\n",
    "                                                           metric=accuracy_score, scoreLabel='acc')\n",
    "\n",
    "print('best model: ',best_model)\n",
    "print('best_score: ', best_score)"
   ]
  },
  {
   "cell_type": "markdown",
   "id": "28c20ca2",
   "metadata": {},
   "source": [
    "# Evaluasi Model"
   ]
  },
  {
   "cell_type": "markdown",
   "id": "e3270f91",
   "metadata": {},
   "source": [
    "### Decision Tree Classifier"
   ]
  },
  {
   "cell_type": "code",
   "execution_count": 35,
   "id": "da986c85",
   "metadata": {},
   "outputs": [
    {
     "name": "stdout",
     "output_type": "stream",
     "text": [
      "WIN\n",
      "               precision    recall  f1-score   support\n",
      "\n",
      "           0       0.54      0.47      0.50        43\n",
      "           1       0.53      0.60      0.57        43\n",
      "\n",
      "    accuracy                           0.53        86\n",
      "   macro avg       0.54      0.53      0.53        86\n",
      "weighted avg       0.54      0.53      0.53        86\n",
      "\n"
     ]
    },
    {
     "data": {
      "text/html": [
       "<div>\n",
       "<style scoped>\n",
       "    .dataframe tbody tr th:only-of-type {\n",
       "        vertical-align: middle;\n",
       "    }\n",
       "\n",
       "    .dataframe tbody tr th {\n",
       "        vertical-align: top;\n",
       "    }\n",
       "\n",
       "    .dataframe thead th {\n",
       "        text-align: right;\n",
       "    }\n",
       "</style>\n",
       "<table border=\"1\" class=\"dataframe\">\n",
       "  <thead>\n",
       "    <tr style=\"text-align: right;\">\n",
       "      <th></th>\n",
       "      <th>Y True</th>\n",
       "      <th>Y pred</th>\n",
       "    </tr>\n",
       "  </thead>\n",
       "  <tbody>\n",
       "    <tr>\n",
       "      <th>0</th>\n",
       "      <td>1</td>\n",
       "      <td>1</td>\n",
       "    </tr>\n",
       "    <tr>\n",
       "      <th>1</th>\n",
       "      <td>0</td>\n",
       "      <td>1</td>\n",
       "    </tr>\n",
       "    <tr>\n",
       "      <th>2</th>\n",
       "      <td>0</td>\n",
       "      <td>1</td>\n",
       "    </tr>\n",
       "    <tr>\n",
       "      <th>3</th>\n",
       "      <td>1</td>\n",
       "      <td>1</td>\n",
       "    </tr>\n",
       "    <tr>\n",
       "      <th>4</th>\n",
       "      <td>1</td>\n",
       "      <td>1</td>\n",
       "    </tr>\n",
       "    <tr>\n",
       "      <th>...</th>\n",
       "      <td>...</td>\n",
       "      <td>...</td>\n",
       "    </tr>\n",
       "    <tr>\n",
       "      <th>81</th>\n",
       "      <td>0</td>\n",
       "      <td>0</td>\n",
       "    </tr>\n",
       "    <tr>\n",
       "      <th>82</th>\n",
       "      <td>0</td>\n",
       "      <td>0</td>\n",
       "    </tr>\n",
       "    <tr>\n",
       "      <th>83</th>\n",
       "      <td>1</td>\n",
       "      <td>1</td>\n",
       "    </tr>\n",
       "    <tr>\n",
       "      <th>84</th>\n",
       "      <td>1</td>\n",
       "      <td>1</td>\n",
       "    </tr>\n",
       "    <tr>\n",
       "      <th>85</th>\n",
       "      <td>0</td>\n",
       "      <td>1</td>\n",
       "    </tr>\n",
       "  </tbody>\n",
       "</table>\n",
       "<p>86 rows × 2 columns</p>\n",
       "</div>"
      ],
      "text/plain": [
       "    Y True  Y pred\n",
       "0        1       1\n",
       "1        0       1\n",
       "2        0       1\n",
       "3        1       1\n",
       "4        1       1\n",
       "..     ...     ...\n",
       "81       0       0\n",
       "82       0       0\n",
       "83       1       1\n",
       "84       1       1\n",
       "85       0       1\n",
       "\n",
       "[86 rows x 2 columns]"
      ]
     },
     "metadata": {},
     "output_type": "display_data"
    },
    {
     "data": {
      "image/png": "[encoded data removed]",
      "text/plain": [
       "<Figure size 432x288 with 1 Axes>"
      ]
     },
     "metadata": {
      "needs_background": "light"
     },
     "output_type": "display_data"
    }
   ],
   "source": [
    "#Rekomendasi\n",
    "\n",
    "\n",
    "decission_tree = DecisionTreeClassifier(max_depth=15, max_features='auto', random_state=30)\n",
    "decission_tree.fit(X_train, Y_train)\n",
    "\n",
    "d = {'Y True': Y_test.to_numpy().flatten().tolist(), 'Y pred': decission_tree.predict(X_test).tolist()}\n",
    "df_predict_decission_tree = pd.DataFrame(data=d)\n",
    "\n",
    "print('WIN\\n',classification_report(Y_test, decission_tree.predict(X_test)))\n",
    "display(df_predict_decission_tree)\n",
    "\n",
    "train_sizes, train_scores, test_scores = learning_curve(decission_tree,X_train, Y_train,\n",
    "                                                        train_sizes=np.linspace(0.1, 1.0, 10), n_jobs=-1,\n",
    "                                                        scoring='accuracy',random_state=42)\n",
    "\n",
    "# plot the mean training and test scores\n",
    "plt.plot(train_sizes, np.mean(train_scores, axis=1), label='Train')\n",
    "plt.plot(train_sizes, np.mean(test_scores, axis=1), label='Test')\n",
    "\n",
    "# plot the standard deviation of training and test scores\n",
    "plt.fill_between(train_sizes, np.mean(train_scores, axis=1) - np.std(train_scores, axis=1),\n",
    "                 np.mean(train_scores, axis=1) + np.std(train_scores, axis=1), alpha=0.1)\n",
    "plt.fill_between(train_sizes, np.mean(test_scores, axis=1) - np.std(test_scores, axis=1),\n",
    "                 np.mean(test_scores, axis=1) + np.std(test_scores, axis=1), alpha=0.1)\n",
    "\n",
    "decission_tree.fit(X_train, Y_train)\n",
    "# plot details\n",
    "plt.title(\"Decision Tree Classifier - Learning Curve\")\n",
    "plt.xlabel(\"Training Size\")\n",
    "plt.ylabel(\"Accuracy Score\")\n",
    "plt.legend(loc='best')\n",
    "plt.show()"
   ]
  },
  {
   "cell_type": "markdown",
   "id": "1f3318c1",
   "metadata": {},
   "source": [
    "### Gaussian Naive Bayes"
   ]
  },
  {
   "cell_type": "code",
   "execution_count": 36,
   "id": "18cdf8de",
   "metadata": {},
   "outputs": [
    {
     "name": "stdout",
     "output_type": "stream",
     "text": [
      "WIN\n",
      "               precision    recall  f1-score   support\n",
      "\n",
      "           0       0.40      0.40      0.40        43\n",
      "           1       0.41      0.42      0.41        43\n",
      "\n",
      "    accuracy                           0.41        86\n",
      "   macro avg       0.41      0.41      0.41        86\n",
      "weighted avg       0.41      0.41      0.41        86\n",
      "\n"
     ]
    },
    {
     "data": {
      "text/html": [
       "<div>\n",
       "<style scoped>\n",
       "    .dataframe tbody tr th:only-of-type {\n",
       "        vertical-align: middle;\n",
       "    }\n",
       "\n",
       "    .dataframe tbody tr th {\n",
       "        vertical-align: top;\n",
       "    }\n",
       "\n",
       "    .dataframe thead th {\n",
       "        text-align: right;\n",
       "    }\n",
       "</style>\n",
       "<table border=\"1\" class=\"dataframe\">\n",
       "  <thead>\n",
       "    <tr style=\"text-align: right;\">\n",
       "      <th></th>\n",
       "      <th>Y1 True</th>\n",
       "      <th>Y pred</th>\n",
       "    </tr>\n",
       "  </thead>\n",
       "  <tbody>\n",
       "    <tr>\n",
       "      <th>0</th>\n",
       "      <td>1</td>\n",
       "      <td>0</td>\n",
       "    </tr>\n",
       "    <tr>\n",
       "      <th>1</th>\n",
       "      <td>0</td>\n",
       "      <td>1</td>\n",
       "    </tr>\n",
       "    <tr>\n",
       "      <th>2</th>\n",
       "      <td>0</td>\n",
       "      <td>0</td>\n",
       "    </tr>\n",
       "    <tr>\n",
       "      <th>3</th>\n",
       "      <td>1</td>\n",
       "      <td>0</td>\n",
       "    </tr>\n",
       "    <tr>\n",
       "      <th>4</th>\n",
       "      <td>1</td>\n",
       "      <td>1</td>\n",
       "    </tr>\n",
       "    <tr>\n",
       "      <th>...</th>\n",
       "      <td>...</td>\n",
       "      <td>...</td>\n",
       "    </tr>\n",
       "    <tr>\n",
       "      <th>81</th>\n",
       "      <td>0</td>\n",
       "      <td>1</td>\n",
       "    </tr>\n",
       "    <tr>\n",
       "      <th>82</th>\n",
       "      <td>0</td>\n",
       "      <td>0</td>\n",
       "    </tr>\n",
       "    <tr>\n",
       "      <th>83</th>\n",
       "      <td>1</td>\n",
       "      <td>0</td>\n",
       "    </tr>\n",
       "    <tr>\n",
       "      <th>84</th>\n",
       "      <td>1</td>\n",
       "      <td>0</td>\n",
       "    </tr>\n",
       "    <tr>\n",
       "      <th>85</th>\n",
       "      <td>0</td>\n",
       "      <td>1</td>\n",
       "    </tr>\n",
       "  </tbody>\n",
       "</table>\n",
       "<p>86 rows × 2 columns</p>\n",
       "</div>"
      ],
      "text/plain": [
       "    Y1 True  Y pred\n",
       "0         1       0\n",
       "1         0       1\n",
       "2         0       0\n",
       "3         1       0\n",
       "4         1       1\n",
       "..      ...     ...\n",
       "81        0       1\n",
       "82        0       0\n",
       "83        1       0\n",
       "84        1       0\n",
       "85        0       1\n",
       "\n",
       "[86 rows x 2 columns]"
      ]
     },
     "metadata": {},
     "output_type": "display_data"
    },
    {
     "data": {
      "image/png": "[encoded data removed]",
      "text/plain": [
       "<Figure size 432x288 with 1 Axes>"
      ]
     },
     "metadata": {
      "needs_background": "light"
     },
     "output_type": "display_data"
    }
   ],
   "source": [
    "target_train = Y_train.astype('float').values.ravel()\n",
    "target_test = Y_test.astype('float').values.ravel()\n",
    "\n",
    "# Param from\n",
    "# Parfit  :\n",
    "'''\n",
    "GaussianNB(var_smoothing=0.01)\n",
    "best_score:  0.5116279069767442\n",
    "GaussianNB(var_smoothing=0.1)\n",
    "best_score:  0.46511627906976744\n",
    "GaussianNB(var_smoothing=0.001)\n",
    "best_score:  0.4883720930232558\n",
    "best model:  GaussianNB(var_smoothing=0.01)\n",
    "best_score:  0.47674418604651164\n",
    "'''\n",
    "\n",
    "gaussian = GaussianNB(var_smoothing=0.01)\n",
    "\n",
    "# Train the model\n",
    "gaussian.fit(X_train, Y_train)\n",
    "\n",
    "# Make predictions\n",
    "d = {'Y1 True': Y_test.to_numpy().flatten().tolist(), 'Y pred': gaussian.predict(X_test).tolist()}\n",
    "df_predict_gaussian = pd.DataFrame(data=d)\n",
    "\n",
    "print('WIN\\n',classification_report((Y_test.to_numpy()), gaussian.predict(X_test)))\n",
    "display(df_predict_gaussian)\n",
    "train_sizes, train_scores, test_scores = learning_curve(gaussian,X_train, Y_train,\n",
    "                                                        train_sizes=np.linspace(0.1, 1.0, 10), n_jobs=-1,\n",
    "                                                        scoring='accuracy')\n",
    "\n",
    "# plot the mean training and test scores\n",
    "plt.plot(train_sizes, np.mean(train_scores, axis=1), label='Train')\n",
    "plt.plot(train_sizes, np.mean(test_scores, axis=1), label='Test')\n",
    "\n",
    "# plot the standard deviation of training and test scores\n",
    "plt.fill_between(train_sizes, np.mean(train_scores, axis=1) - np.std(train_scores, axis=1),\n",
    "                 np.mean(train_scores, axis=1) + np.std(train_scores, axis=1), alpha=0.1)\n",
    "plt.fill_between(train_sizes, np.mean(test_scores, axis=1) - np.std(test_scores, axis=1),\n",
    "                 np.mean(test_scores, axis=1) + np.std(test_scores, axis=1), alpha=0.1)\n",
    "\n",
    "decission_tree.fit(X_train, Y_train)\n",
    "# plot details\n",
    "plt.title(\"Gaussian - Learning Curve\")\n",
    "plt.xlabel(\"Training Size\")\n",
    "plt.ylabel(\"Accuracy Score\")\n",
    "plt.legend(loc='best')\n",
    "plt.show()"
   ]
  },
  {
   "cell_type": "markdown",
   "id": "ff1675fd",
   "metadata": {},
   "source": [
    "# Model Perbandingan ROC Kurva"
   ]
  },
  {
   "cell_type": "code",
   "execution_count": 37,
   "id": "53b04687",
   "metadata": {},
   "outputs": [],
   "source": [
    "from sklearn.metrics import roc_auc_score, roc_curve\n",
    "from sklearn.metrics import RocCurveDisplay\n",
    "from sklearn.metrics import confusion_matrix\n",
    "from sklearn.metrics import ConfusionMatrixDisplay\n",
    "from sklearn.tree import DecisionTreeClassifier\n",
    "from sklearn import tree\n",
    "from sklearn.metrics import accuracy_score,precision_score,recall_score\n",
    "\n",
    "def plot_sklearn_roc_curve(y_real, y_pred):\n",
    "    fpr, tpr, _ = roc_curve(y_real, y_pred)\n",
    "    roc_display = RocCurveDisplay(fpr=fpr, tpr=tpr).plot()\n",
    "    roc_display.figure_.set_size_inches(6,4)\n",
    "    plt.plot([0, 1], [0, 1], color = 'gray')\n",
    "\n",
    "def plot_sklearn_confusion_matrix(y_real, y_pred):\n",
    "    cm = confusion_matrix(y_real, y_pred)\n",
    "    display = ConfusionMatrixDisplay(confusion_matrix=cm,\n",
    "                                     display_labels=['Blue Team','Red Team'],).plot\n",
    "    display(values_format='').plot\n",
    "#    display.figure_.set_size_inches(6,4)"
   ]
  },
  {
   "cell_type": "markdown",
   "id": "365122d4",
   "metadata": {},
   "source": [
    "# Confussion Matrix"
   ]
  },
  {
   "cell_type": "markdown",
   "id": "71d455db",
   "metadata": {},
   "source": [
    "## Decision Tree Classifier"
   ]
  },
  {
   "cell_type": "code",
   "execution_count": 38,
   "id": "00f69908",
   "metadata": {},
   "outputs": [
    {
     "name": "stdout",
     "output_type": "stream",
     "text": [
      "WIN\n",
      "               precision    recall  f1-score   support\n",
      "\n",
      "           0       0.54      0.47      0.50        43\n",
      "           1       0.53      0.60      0.57        43\n",
      "\n",
      "    accuracy                           0.53        86\n",
      "   macro avg       0.54      0.53      0.53        86\n",
      "weighted avg       0.54      0.53      0.53        86\n",
      "\n"
     ]
    },
    {
     "data": {
      "image/png": "[encoded data removed]",
      "text/plain": [
       "<Figure size 432x288 with 2 Axes>"
      ]
     },
     "metadata": {
      "needs_background": "light"
     },
     "output_type": "display_data"
    }
   ],
   "source": [
    "#plot_sklearn_roc_curve(Y1_test.to_numpy().flatten(), decission_tree.predict(X_test))\n",
    "print('WIN\\n',classification_report(Y_test, decission_tree.predict(X_test)))\n",
    "plot_sklearn_confusion_matrix(Y_test, decission_tree.predict(X_test))"
   ]
  },
  {
   "cell_type": "markdown",
   "id": "de6cc3ba",
   "metadata": {},
   "source": [
    "### Gaussian Naive Bayes"
   ]
  },
  {
   "cell_type": "code",
   "execution_count": 39,
   "id": "22a2196e",
   "metadata": {},
   "outputs": [
    {
     "name": "stdout",
     "output_type": "stream",
     "text": [
      "WIN\n",
      "               precision    recall  f1-score   support\n",
      "\n",
      "           0       0.40      0.40      0.40        43\n",
      "           1       0.41      0.42      0.41        43\n",
      "\n",
      "    accuracy                           0.41        86\n",
      "   macro avg       0.41      0.41      0.41        86\n",
      "weighted avg       0.41      0.41      0.41        86\n",
      "\n"
     ]
    },
    {
     "data": {
      "image/png": "[encoded data removed]",
      "text/plain": [
       "<Figure size 432x288 with 2 Axes>"
      ]
     },
     "metadata": {
      "needs_background": "light"
     },
     "output_type": "display_data"
    }
   ],
   "source": [
    "print('WIN\\n',classification_report(Y_test, gaussian.predict(X_test)))\n",
    "plot_sklearn_confusion_matrix(Y_test, gaussian.predict(X_test))"
   ]
  },
  {
   "cell_type": "markdown",
   "id": "967b820a",
   "metadata": {},
   "source": [
    "## Prediksi Probabilitas"
   ]
  },
  {
   "cell_type": "code",
   "execution_count": 40,
   "id": "3831f9e3",
   "metadata": {},
   "outputs": [
    {
     "name": "stdout",
     "output_type": "stream",
     "text": [
      "Decision Tree AUROC = 53.49 %\n",
      "Gaussian Naive Bayes AUROC = 38.89 %\n"
     ]
    }
   ],
   "source": [
    "decission_tree_probs = decission_tree.predict_proba(X_test)\n",
    "gaussian_probs = gaussian.predict_proba(X_test)\n",
    "\n",
    "#Simpan probabilitas untuk Hasil Positif\n",
    "decission_tree_probs = decission_tree_probs[:, 1]\n",
    "gaussian_probs =  gaussian_probs[:, 1]\n",
    "\n",
    "#Menghitung nilai AUROC dan kurva ROC.\n",
    "decission_tree_auc = roc_auc_score(Y_test, decission_tree_probs)\n",
    "gaussian_auc = roc_auc_score(Y_test, gaussian_probs)\n",
    "print('Decision Tree AUROC = %.2f' % (decission_tree_auc* 100),'%')\n",
    "print('Gaussian Naive Bayes AUROC = %.2f' % (gaussian_auc* 100),'%')"
   ]
  },
  {
   "cell_type": "markdown",
   "id": "a651c43a",
   "metadata": {},
   "source": [
    "## Ploting Kurva AU-ROC"
   ]
  },
  {
   "cell_type": "code",
   "execution_count": 41,
   "id": "92b594d5",
   "metadata": {},
   "outputs": [
    {
     "data": {
      "image/png": "[encoded data removed]",
      "text/plain": [
       "<Figure size 432x288 with 1 Axes>"
      ]
     },
     "metadata": {
      "needs_background": "light"
     },
     "output_type": "display_data"
    }
   ],
   "source": [
    "decission_tree_fpr, decission_tree_tpr, _ = roc_curve(Y_test, decission_tree_probs)\n",
    "gaussian_fpr, gaussian_tpr, _ = roc_curve(Y_test, gaussian_probs)\n",
    "\n",
    "#Ploting Kurva ROC\n",
    "plt.plot(decission_tree_fpr, decission_tree_tpr, marker='.', label='Decision Tree (ROC = %0.2f)' % decission_tree_auc)\n",
    "plt.plot(gaussian_fpr, gaussian_tpr, marker='.', label='Gaussian Naive Bayes (ROC = %0.2f)' % gaussian_auc)\n",
    "\n",
    "# Title\n",
    "plt.title('AUROC Plot')\n",
    "# Axis labels\n",
    "plt.xlabel('False Positive Rate')\n",
    "plt.ylabel('True Positive Rate')\n",
    "# Show legend\n",
    "plt.legend() #\n",
    "# Show plot\n",
    "plt.show()"
   ]
  },
  {
   "cell_type": "markdown",
   "id": "c1f8583b",
   "metadata": {},
   "source": [
    "# Input Data Mannual"
   ]
  },
  {
   "cell_type": "code",
   "execution_count": 42,
   "id": "769773d8",
   "metadata": {},
   "outputs": [
    {
     "data": {
      "image/png": "[encoded data removed]",
      "text/plain": [
       "<IPython.core.display.Image object>"
      ]
     },
     "execution_count": 42,
     "metadata": {},
     "output_type": "execute_result"
    }
   ],
   "source": [
    "from IPython.display import Image\n",
    "Image(filename='List Hero.png')"
   ]
  },
  {
   "cell_type": "code",
   "execution_count": 43,
   "id": "dda0be79",
   "metadata": {},
   "outputs": [
    {
     "name": "stdout",
     "output_type": "stream",
     "text": [
      "Prediksi :\n",
      " Team Blue Menang dengan Persentase: 100.00 %\n"
     ]
    }
   ],
   "source": [
    "prediksi = decission_tree.predict_proba([[                                        \n",
    "                                          42,39,6,26,25,\n",
    "                                            72,1,111,27,29,\n",
    "                                          ]]) [:,1]\n",
    "# Komposisi\n",
    "if prediksi[0] == 0:\n",
    "    pred = \"Team Red Menang\"\n",
    "else:\n",
    "    pred = \"Team Blue Menang\"\n",
    "print('Prediksi :\\n',pred, \"dengan Persentase: %.2f\" %((prediksi*100)),\"%\")"
   ]
  },
  {
   "cell_type": "code",
   "execution_count": null,
   "id": "47eca250",
   "metadata": {},
   "outputs": [],
   "source": []
  }
 ],
 "metadata": {
  "kernelspec": {
   "display_name": "Python 3 (ipykernel)",
   "language": "python",
   "name": "python3"
  },
  "language_info": {
   "codemirror_mode": {
    "name": "ipython",
    "version": 3
   },
   "file_extension": ".py",
   "mimetype": "text/x-python",
   "name": "python",
   "nbconvert_exporter": "python",
   "pygments_lexer": "ipython3",
   "version": "3.9.7"
  }
 },
 "nbformat": 4,
 "nbformat_minor": 5
}
